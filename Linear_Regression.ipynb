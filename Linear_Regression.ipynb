{
  "nbformat": 4,
  "nbformat_minor": 0,
  "metadata": {
    "colab": {
      "name": "Linear Regression.ipynb",
      "provenance": [],
      "collapsed_sections": [],
      "authorship_tag": "ABX9TyPHqvZOLuQakRxYYwzdRFcG",
      "include_colab_link": true
    },
    "kernelspec": {
      "name": "python3",
      "display_name": "Python 3"
    },
    "language_info": {
      "name": "python"
    }
  },
  "cells": [
    {
      "cell_type": "markdown",
      "metadata": {
        "id": "view-in-github",
        "colab_type": "text"
      },
      "source": [
        "<a href=\"https://colab.research.google.com/github/Ayush-hm/Google-Colab-ML/blob/main/Linear_Regression.ipynb\" target=\"_parent\"><img src=\"https://colab.research.google.com/assets/colab-badge.svg\" alt=\"Open In Colab\"/></a>"
      ]
    },
    {
      "cell_type": "markdown",
      "source": [
        "## **Linear Regression**\n",
        "Linear regression analysis is used to predict the value of a variable based on the value of another variable. The variable you want to predict is called the dependent variable. The variable you are using to predict the other variable's value is called the independent variable.\n",
        "\n",
        "---\n",
        "\n"
      ],
      "metadata": {
        "id": "7559dE6vzgf5"
      }
    },
    {
      "cell_type": "markdown",
      "source": [
        "**You are the manager, $10,000 is to be spent on various resourses for making ad for a increasing the sales of a particular product.**\n",
        "\n",
        "\n",
        "Return on Investment must be atleast 5 times or more.\n",
        "\n",
        "**Questions:**\n",
        "\n",
        "Asked to find the ROI from different sources and find out which one is effective method \n",
        "\n",
        "How do you decide the priorities for making the advertisement\n",
        "\n",
        "How much sales are you going to provide given that all the sources are double by their average"
      ],
      "metadata": {
        "id": "zP4trGSr4Ah7"
      }
    },
    {
      "cell_type": "code",
      "source": [
        "import pandas as pd\n",
        "import matplotlib.pyplot as plt\n",
        "%matplotlib inline"
      ],
      "metadata": {
        "id": "yiVI14ZS2752"
      },
      "execution_count": 2,
      "outputs": []
    },
    {
      "cell_type": "code",
      "source": [
        "data = pd.read_csv('https://raw.githubusercontent.com/justmarkham/scikit-learn-videos/master/data/Advertising.csv')\n",
        "print(data.head())\n",
        "print(data.shape)\n",
        "del data['Unnamed: 0']\n",
        "data.head()\n",
        "\n"
      ],
      "metadata": {
        "colab": {
          "base_uri": "https://localhost:8080/",
          "height": 328
        },
        "id": "gfr-a1m3-tTo",
        "outputId": "3fe3789c-0fd9-4952-9b92-694498f3baff"
      },
      "execution_count": 14,
      "outputs": [
        {
          "output_type": "stream",
          "name": "stdout",
          "text": [
            "   Unnamed: 0     TV  Radio  Newspaper  Sales\n",
            "0           1  230.1   37.8       69.2   22.1\n",
            "1           2   44.5   39.3       45.1   10.4\n",
            "2           3   17.2   45.9       69.3    9.3\n",
            "3           4  151.5   41.3       58.5   18.5\n",
            "4           5  180.8   10.8       58.4   12.9\n",
            "(200, 5)\n"
          ]
        },
        {
          "output_type": "execute_result",
          "data": {
            "text/plain": [
              "      TV  Radio  Newspaper  Sales\n",
              "0  230.1   37.8       69.2   22.1\n",
              "1   44.5   39.3       45.1   10.4\n",
              "2   17.2   45.9       69.3    9.3\n",
              "3  151.5   41.3       58.5   18.5\n",
              "4  180.8   10.8       58.4   12.9"
            ],
            "text/html": [
              "\n",
              "  <div id=\"df-7c6f91fe-e55f-4c5a-bef2-9a77eb2c1e2a\">\n",
              "    <div class=\"colab-df-container\">\n",
              "      <div>\n",
              "<style scoped>\n",
              "    .dataframe tbody tr th:only-of-type {\n",
              "        vertical-align: middle;\n",
              "    }\n",
              "\n",
              "    .dataframe tbody tr th {\n",
              "        vertical-align: top;\n",
              "    }\n",
              "\n",
              "    .dataframe thead th {\n",
              "        text-align: right;\n",
              "    }\n",
              "</style>\n",
              "<table border=\"1\" class=\"dataframe\">\n",
              "  <thead>\n",
              "    <tr style=\"text-align: right;\">\n",
              "      <th></th>\n",
              "      <th>TV</th>\n",
              "      <th>Radio</th>\n",
              "      <th>Newspaper</th>\n",
              "      <th>Sales</th>\n",
              "    </tr>\n",
              "  </thead>\n",
              "  <tbody>\n",
              "    <tr>\n",
              "      <th>0</th>\n",
              "      <td>230.1</td>\n",
              "      <td>37.8</td>\n",
              "      <td>69.2</td>\n",
              "      <td>22.1</td>\n",
              "    </tr>\n",
              "    <tr>\n",
              "      <th>1</th>\n",
              "      <td>44.5</td>\n",
              "      <td>39.3</td>\n",
              "      <td>45.1</td>\n",
              "      <td>10.4</td>\n",
              "    </tr>\n",
              "    <tr>\n",
              "      <th>2</th>\n",
              "      <td>17.2</td>\n",
              "      <td>45.9</td>\n",
              "      <td>69.3</td>\n",
              "      <td>9.3</td>\n",
              "    </tr>\n",
              "    <tr>\n",
              "      <th>3</th>\n",
              "      <td>151.5</td>\n",
              "      <td>41.3</td>\n",
              "      <td>58.5</td>\n",
              "      <td>18.5</td>\n",
              "    </tr>\n",
              "    <tr>\n",
              "      <th>4</th>\n",
              "      <td>180.8</td>\n",
              "      <td>10.8</td>\n",
              "      <td>58.4</td>\n",
              "      <td>12.9</td>\n",
              "    </tr>\n",
              "  </tbody>\n",
              "</table>\n",
              "</div>\n",
              "      <button class=\"colab-df-convert\" onclick=\"convertToInteractive('df-7c6f91fe-e55f-4c5a-bef2-9a77eb2c1e2a')\"\n",
              "              title=\"Convert this dataframe to an interactive table.\"\n",
              "              style=\"display:none;\">\n",
              "        \n",
              "  <svg xmlns=\"http://www.w3.org/2000/svg\" height=\"24px\"viewBox=\"0 0 24 24\"\n",
              "       width=\"24px\">\n",
              "    <path d=\"M0 0h24v24H0V0z\" fill=\"none\"/>\n",
              "    <path d=\"M18.56 5.44l.94 2.06.94-2.06 2.06-.94-2.06-.94-.94-2.06-.94 2.06-2.06.94zm-11 1L8.5 8.5l.94-2.06 2.06-.94-2.06-.94L8.5 2.5l-.94 2.06-2.06.94zm10 10l.94 2.06.94-2.06 2.06-.94-2.06-.94-.94-2.06-.94 2.06-2.06.94z\"/><path d=\"M17.41 7.96l-1.37-1.37c-.4-.4-.92-.59-1.43-.59-.52 0-1.04.2-1.43.59L10.3 9.45l-7.72 7.72c-.78.78-.78 2.05 0 2.83L4 21.41c.39.39.9.59 1.41.59.51 0 1.02-.2 1.41-.59l7.78-7.78 2.81-2.81c.8-.78.8-2.07 0-2.86zM5.41 20L4 18.59l7.72-7.72 1.47 1.35L5.41 20z\"/>\n",
              "  </svg>\n",
              "      </button>\n",
              "      \n",
              "  <style>\n",
              "    .colab-df-container {\n",
              "      display:flex;\n",
              "      flex-wrap:wrap;\n",
              "      gap: 12px;\n",
              "    }\n",
              "\n",
              "    .colab-df-convert {\n",
              "      background-color: #E8F0FE;\n",
              "      border: none;\n",
              "      border-radius: 50%;\n",
              "      cursor: pointer;\n",
              "      display: none;\n",
              "      fill: #1967D2;\n",
              "      height: 32px;\n",
              "      padding: 0 0 0 0;\n",
              "      width: 32px;\n",
              "    }\n",
              "\n",
              "    .colab-df-convert:hover {\n",
              "      background-color: #E2EBFA;\n",
              "      box-shadow: 0px 1px 2px rgba(60, 64, 67, 0.3), 0px 1px 3px 1px rgba(60, 64, 67, 0.15);\n",
              "      fill: #174EA6;\n",
              "    }\n",
              "\n",
              "    [theme=dark] .colab-df-convert {\n",
              "      background-color: #3B4455;\n",
              "      fill: #D2E3FC;\n",
              "    }\n",
              "\n",
              "    [theme=dark] .colab-df-convert:hover {\n",
              "      background-color: #434B5C;\n",
              "      box-shadow: 0px 1px 3px 1px rgba(0, 0, 0, 0.15);\n",
              "      filter: drop-shadow(0px 1px 2px rgba(0, 0, 0, 0.3));\n",
              "      fill: #FFFFFF;\n",
              "    }\n",
              "  </style>\n",
              "\n",
              "      <script>\n",
              "        const buttonEl =\n",
              "          document.querySelector('#df-7c6f91fe-e55f-4c5a-bef2-9a77eb2c1e2a button.colab-df-convert');\n",
              "        buttonEl.style.display =\n",
              "          google.colab.kernel.accessAllowed ? 'block' : 'none';\n",
              "\n",
              "        async function convertToInteractive(key) {\n",
              "          const element = document.querySelector('#df-7c6f91fe-e55f-4c5a-bef2-9a77eb2c1e2a');\n",
              "          const dataTable =\n",
              "            await google.colab.kernel.invokeFunction('convertToInteractive',\n",
              "                                                     [key], {});\n",
              "          if (!dataTable) return;\n",
              "\n",
              "          const docLinkHtml = 'Like what you see? Visit the ' +\n",
              "            '<a target=\"_blank\" href=https://colab.research.google.com/notebooks/data_table.ipynb>data table notebook</a>'\n",
              "            + ' to learn more about interactive tables.';\n",
              "          element.innerHTML = '';\n",
              "          dataTable['output_type'] = 'display_data';\n",
              "          await google.colab.output.renderOutput(dataTable, element);\n",
              "          const docLink = document.createElement('div');\n",
              "          docLink.innerHTML = docLinkHtml;\n",
              "          element.appendChild(docLink);\n",
              "        }\n",
              "      </script>\n",
              "    </div>\n",
              "  </div>\n",
              "  "
            ]
          },
          "metadata": {},
          "execution_count": 14
        }
      ]
    },
    {
      "cell_type": "code",
      "source": [
        "data.corr()"
      ],
      "metadata": {
        "colab": {
          "base_uri": "https://localhost:8080/",
          "height": 175
        },
        "id": "aX6PCccH_O1t",
        "outputId": "c6128980-47a3-4faa-8688-cc6c029a986e"
      },
      "execution_count": 5,
      "outputs": [
        {
          "output_type": "execute_result",
          "data": {
            "text/plain": [
              "                 TV     Radio  Newspaper     Sales\n",
              "TV         1.000000  0.054809   0.056648  0.782224\n",
              "Radio      0.054809  1.000000   0.354104  0.576223\n",
              "Newspaper  0.056648  0.354104   1.000000  0.228299\n",
              "Sales      0.782224  0.576223   0.228299  1.000000"
            ],
            "text/html": [
              "\n",
              "  <div id=\"df-ca0f0059-1141-40b6-b3bb-6db81e7005dc\">\n",
              "    <div class=\"colab-df-container\">\n",
              "      <div>\n",
              "<style scoped>\n",
              "    .dataframe tbody tr th:only-of-type {\n",
              "        vertical-align: middle;\n",
              "    }\n",
              "\n",
              "    .dataframe tbody tr th {\n",
              "        vertical-align: top;\n",
              "    }\n",
              "\n",
              "    .dataframe thead th {\n",
              "        text-align: right;\n",
              "    }\n",
              "</style>\n",
              "<table border=\"1\" class=\"dataframe\">\n",
              "  <thead>\n",
              "    <tr style=\"text-align: right;\">\n",
              "      <th></th>\n",
              "      <th>TV</th>\n",
              "      <th>Radio</th>\n",
              "      <th>Newspaper</th>\n",
              "      <th>Sales</th>\n",
              "    </tr>\n",
              "  </thead>\n",
              "  <tbody>\n",
              "    <tr>\n",
              "      <th>TV</th>\n",
              "      <td>1.000000</td>\n",
              "      <td>0.054809</td>\n",
              "      <td>0.056648</td>\n",
              "      <td>0.782224</td>\n",
              "    </tr>\n",
              "    <tr>\n",
              "      <th>Radio</th>\n",
              "      <td>0.054809</td>\n",
              "      <td>1.000000</td>\n",
              "      <td>0.354104</td>\n",
              "      <td>0.576223</td>\n",
              "    </tr>\n",
              "    <tr>\n",
              "      <th>Newspaper</th>\n",
              "      <td>0.056648</td>\n",
              "      <td>0.354104</td>\n",
              "      <td>1.000000</td>\n",
              "      <td>0.228299</td>\n",
              "    </tr>\n",
              "    <tr>\n",
              "      <th>Sales</th>\n",
              "      <td>0.782224</td>\n",
              "      <td>0.576223</td>\n",
              "      <td>0.228299</td>\n",
              "      <td>1.000000</td>\n",
              "    </tr>\n",
              "  </tbody>\n",
              "</table>\n",
              "</div>\n",
              "      <button class=\"colab-df-convert\" onclick=\"convertToInteractive('df-ca0f0059-1141-40b6-b3bb-6db81e7005dc')\"\n",
              "              title=\"Convert this dataframe to an interactive table.\"\n",
              "              style=\"display:none;\">\n",
              "        \n",
              "  <svg xmlns=\"http://www.w3.org/2000/svg\" height=\"24px\"viewBox=\"0 0 24 24\"\n",
              "       width=\"24px\">\n",
              "    <path d=\"M0 0h24v24H0V0z\" fill=\"none\"/>\n",
              "    <path d=\"M18.56 5.44l.94 2.06.94-2.06 2.06-.94-2.06-.94-.94-2.06-.94 2.06-2.06.94zm-11 1L8.5 8.5l.94-2.06 2.06-.94-2.06-.94L8.5 2.5l-.94 2.06-2.06.94zm10 10l.94 2.06.94-2.06 2.06-.94-2.06-.94-.94-2.06-.94 2.06-2.06.94z\"/><path d=\"M17.41 7.96l-1.37-1.37c-.4-.4-.92-.59-1.43-.59-.52 0-1.04.2-1.43.59L10.3 9.45l-7.72 7.72c-.78.78-.78 2.05 0 2.83L4 21.41c.39.39.9.59 1.41.59.51 0 1.02-.2 1.41-.59l7.78-7.78 2.81-2.81c.8-.78.8-2.07 0-2.86zM5.41 20L4 18.59l7.72-7.72 1.47 1.35L5.41 20z\"/>\n",
              "  </svg>\n",
              "      </button>\n",
              "      \n",
              "  <style>\n",
              "    .colab-df-container {\n",
              "      display:flex;\n",
              "      flex-wrap:wrap;\n",
              "      gap: 12px;\n",
              "    }\n",
              "\n",
              "    .colab-df-convert {\n",
              "      background-color: #E8F0FE;\n",
              "      border: none;\n",
              "      border-radius: 50%;\n",
              "      cursor: pointer;\n",
              "      display: none;\n",
              "      fill: #1967D2;\n",
              "      height: 32px;\n",
              "      padding: 0 0 0 0;\n",
              "      width: 32px;\n",
              "    }\n",
              "\n",
              "    .colab-df-convert:hover {\n",
              "      background-color: #E2EBFA;\n",
              "      box-shadow: 0px 1px 2px rgba(60, 64, 67, 0.3), 0px 1px 3px 1px rgba(60, 64, 67, 0.15);\n",
              "      fill: #174EA6;\n",
              "    }\n",
              "\n",
              "    [theme=dark] .colab-df-convert {\n",
              "      background-color: #3B4455;\n",
              "      fill: #D2E3FC;\n",
              "    }\n",
              "\n",
              "    [theme=dark] .colab-df-convert:hover {\n",
              "      background-color: #434B5C;\n",
              "      box-shadow: 0px 1px 3px 1px rgba(0, 0, 0, 0.15);\n",
              "      filter: drop-shadow(0px 1px 2px rgba(0, 0, 0, 0.3));\n",
              "      fill: #FFFFFF;\n",
              "    }\n",
              "  </style>\n",
              "\n",
              "      <script>\n",
              "        const buttonEl =\n",
              "          document.querySelector('#df-ca0f0059-1141-40b6-b3bb-6db81e7005dc button.colab-df-convert');\n",
              "        buttonEl.style.display =\n",
              "          google.colab.kernel.accessAllowed ? 'block' : 'none';\n",
              "\n",
              "        async function convertToInteractive(key) {\n",
              "          const element = document.querySelector('#df-ca0f0059-1141-40b6-b3bb-6db81e7005dc');\n",
              "          const dataTable =\n",
              "            await google.colab.kernel.invokeFunction('convertToInteractive',\n",
              "                                                     [key], {});\n",
              "          if (!dataTable) return;\n",
              "\n",
              "          const docLinkHtml = 'Like what you see? Visit the ' +\n",
              "            '<a target=\"_blank\" href=https://colab.research.google.com/notebooks/data_table.ipynb>data table notebook</a>'\n",
              "            + ' to learn more about interactive tables.';\n",
              "          element.innerHTML = '';\n",
              "          dataTable['output_type'] = 'display_data';\n",
              "          await google.colab.output.renderOutput(dataTable, element);\n",
              "          const docLink = document.createElement('div');\n",
              "          docLink.innerHTML = docLinkHtml;\n",
              "          element.appendChild(docLink);\n",
              "        }\n",
              "      </script>\n",
              "    </div>\n",
              "  </div>\n",
              "  "
            ]
          },
          "metadata": {},
          "execution_count": 5
        }
      ]
    },
    {
      "cell_type": "code",
      "source": [
        "data.cov()"
      ],
      "metadata": {
        "colab": {
          "base_uri": "https://localhost:8080/",
          "height": 175
        },
        "id": "hBiotLjP_93u",
        "outputId": "d103c477-ca7f-43ca-a7bb-6dc9a9757de8"
      },
      "execution_count": 15,
      "outputs": [
        {
          "output_type": "execute_result",
          "data": {
            "text/plain": [
              "                    TV       Radio   Newspaper       Sales\n",
              "TV         7370.949893   69.862492  105.919452  350.390195\n",
              "Radio        69.862492  220.427743  114.496979   44.635688\n",
              "Newspaper   105.919452  114.496979  474.308326   25.941392\n",
              "Sales       350.390195   44.635688   25.941392   27.221853"
            ],
            "text/html": [
              "\n",
              "  <div id=\"df-ca7978b8-9a21-403d-8ee0-3c952fe5c59f\">\n",
              "    <div class=\"colab-df-container\">\n",
              "      <div>\n",
              "<style scoped>\n",
              "    .dataframe tbody tr th:only-of-type {\n",
              "        vertical-align: middle;\n",
              "    }\n",
              "\n",
              "    .dataframe tbody tr th {\n",
              "        vertical-align: top;\n",
              "    }\n",
              "\n",
              "    .dataframe thead th {\n",
              "        text-align: right;\n",
              "    }\n",
              "</style>\n",
              "<table border=\"1\" class=\"dataframe\">\n",
              "  <thead>\n",
              "    <tr style=\"text-align: right;\">\n",
              "      <th></th>\n",
              "      <th>TV</th>\n",
              "      <th>Radio</th>\n",
              "      <th>Newspaper</th>\n",
              "      <th>Sales</th>\n",
              "    </tr>\n",
              "  </thead>\n",
              "  <tbody>\n",
              "    <tr>\n",
              "      <th>TV</th>\n",
              "      <td>7370.949893</td>\n",
              "      <td>69.862492</td>\n",
              "      <td>105.919452</td>\n",
              "      <td>350.390195</td>\n",
              "    </tr>\n",
              "    <tr>\n",
              "      <th>Radio</th>\n",
              "      <td>69.862492</td>\n",
              "      <td>220.427743</td>\n",
              "      <td>114.496979</td>\n",
              "      <td>44.635688</td>\n",
              "    </tr>\n",
              "    <tr>\n",
              "      <th>Newspaper</th>\n",
              "      <td>105.919452</td>\n",
              "      <td>114.496979</td>\n",
              "      <td>474.308326</td>\n",
              "      <td>25.941392</td>\n",
              "    </tr>\n",
              "    <tr>\n",
              "      <th>Sales</th>\n",
              "      <td>350.390195</td>\n",
              "      <td>44.635688</td>\n",
              "      <td>25.941392</td>\n",
              "      <td>27.221853</td>\n",
              "    </tr>\n",
              "  </tbody>\n",
              "</table>\n",
              "</div>\n",
              "      <button class=\"colab-df-convert\" onclick=\"convertToInteractive('df-ca7978b8-9a21-403d-8ee0-3c952fe5c59f')\"\n",
              "              title=\"Convert this dataframe to an interactive table.\"\n",
              "              style=\"display:none;\">\n",
              "        \n",
              "  <svg xmlns=\"http://www.w3.org/2000/svg\" height=\"24px\"viewBox=\"0 0 24 24\"\n",
              "       width=\"24px\">\n",
              "    <path d=\"M0 0h24v24H0V0z\" fill=\"none\"/>\n",
              "    <path d=\"M18.56 5.44l.94 2.06.94-2.06 2.06-.94-2.06-.94-.94-2.06-.94 2.06-2.06.94zm-11 1L8.5 8.5l.94-2.06 2.06-.94-2.06-.94L8.5 2.5l-.94 2.06-2.06.94zm10 10l.94 2.06.94-2.06 2.06-.94-2.06-.94-.94-2.06-.94 2.06-2.06.94z\"/><path d=\"M17.41 7.96l-1.37-1.37c-.4-.4-.92-.59-1.43-.59-.52 0-1.04.2-1.43.59L10.3 9.45l-7.72 7.72c-.78.78-.78 2.05 0 2.83L4 21.41c.39.39.9.59 1.41.59.51 0 1.02-.2 1.41-.59l7.78-7.78 2.81-2.81c.8-.78.8-2.07 0-2.86zM5.41 20L4 18.59l7.72-7.72 1.47 1.35L5.41 20z\"/>\n",
              "  </svg>\n",
              "      </button>\n",
              "      \n",
              "  <style>\n",
              "    .colab-df-container {\n",
              "      display:flex;\n",
              "      flex-wrap:wrap;\n",
              "      gap: 12px;\n",
              "    }\n",
              "\n",
              "    .colab-df-convert {\n",
              "      background-color: #E8F0FE;\n",
              "      border: none;\n",
              "      border-radius: 50%;\n",
              "      cursor: pointer;\n",
              "      display: none;\n",
              "      fill: #1967D2;\n",
              "      height: 32px;\n",
              "      padding: 0 0 0 0;\n",
              "      width: 32px;\n",
              "    }\n",
              "\n",
              "    .colab-df-convert:hover {\n",
              "      background-color: #E2EBFA;\n",
              "      box-shadow: 0px 1px 2px rgba(60, 64, 67, 0.3), 0px 1px 3px 1px rgba(60, 64, 67, 0.15);\n",
              "      fill: #174EA6;\n",
              "    }\n",
              "\n",
              "    [theme=dark] .colab-df-convert {\n",
              "      background-color: #3B4455;\n",
              "      fill: #D2E3FC;\n",
              "    }\n",
              "\n",
              "    [theme=dark] .colab-df-convert:hover {\n",
              "      background-color: #434B5C;\n",
              "      box-shadow: 0px 1px 3px 1px rgba(0, 0, 0, 0.15);\n",
              "      filter: drop-shadow(0px 1px 2px rgba(0, 0, 0, 0.3));\n",
              "      fill: #FFFFFF;\n",
              "    }\n",
              "  </style>\n",
              "\n",
              "      <script>\n",
              "        const buttonEl =\n",
              "          document.querySelector('#df-ca7978b8-9a21-403d-8ee0-3c952fe5c59f button.colab-df-convert');\n",
              "        buttonEl.style.display =\n",
              "          google.colab.kernel.accessAllowed ? 'block' : 'none';\n",
              "\n",
              "        async function convertToInteractive(key) {\n",
              "          const element = document.querySelector('#df-ca7978b8-9a21-403d-8ee0-3c952fe5c59f');\n",
              "          const dataTable =\n",
              "            await google.colab.kernel.invokeFunction('convertToInteractive',\n",
              "                                                     [key], {});\n",
              "          if (!dataTable) return;\n",
              "\n",
              "          const docLinkHtml = 'Like what you see? Visit the ' +\n",
              "            '<a target=\"_blank\" href=https://colab.research.google.com/notebooks/data_table.ipynb>data table notebook</a>'\n",
              "            + ' to learn more about interactive tables.';\n",
              "          element.innerHTML = '';\n",
              "          dataTable['output_type'] = 'display_data';\n",
              "          await google.colab.output.renderOutput(dataTable, element);\n",
              "          const docLink = document.createElement('div');\n",
              "          docLink.innerHTML = docLinkHtml;\n",
              "          element.appendChild(docLink);\n",
              "        }\n",
              "      </script>\n",
              "    </div>\n",
              "  </div>\n",
              "  "
            ]
          },
          "metadata": {},
          "execution_count": 15
        }
      ]
    },
    {
      "cell_type": "markdown",
      "source": [
        "Assumptions:\n",
        "\n",
        "\n",
        "1.   Linearity\n",
        "2.   Normal Error\n",
        "3.   No Autocorrelation\n",
        "4.   No Multicolinearity\n",
        "5.   No Heteroscedasity\n",
        "\n",
        "\n",
        "\n"
      ],
      "metadata": {
        "id": "V-rPDjdIAhC-"
      }
    },
    {
      "cell_type": "code",
      "source": [
        "data.info()"
      ],
      "metadata": {
        "colab": {
          "base_uri": "https://localhost:8080/"
        },
        "id": "fXdzy9cWAdoR",
        "outputId": "f766b33e-e01f-4327-ec8a-02358a91a05f"
      },
      "execution_count": 16,
      "outputs": [
        {
          "output_type": "stream",
          "name": "stdout",
          "text": [
            "<class 'pandas.core.frame.DataFrame'>\n",
            "RangeIndex: 200 entries, 0 to 199\n",
            "Data columns (total 4 columns):\n",
            " #   Column     Non-Null Count  Dtype  \n",
            "---  ------     --------------  -----  \n",
            " 0   TV         200 non-null    float64\n",
            " 1   Radio      200 non-null    float64\n",
            " 2   Newspaper  200 non-null    float64\n",
            " 3   Sales      200 non-null    float64\n",
            "dtypes: float64(4)\n",
            "memory usage: 6.4 KB\n"
          ]
        }
      ]
    },
    {
      "cell_type": "code",
      "source": [
        "data.head()"
      ],
      "metadata": {
        "colab": {
          "base_uri": "https://localhost:8080/",
          "height": 206
        },
        "id": "pxHTLE20BGFa",
        "outputId": "5e4d769c-0d6b-4ef2-8054-c61a57b5acb1"
      },
      "execution_count": 17,
      "outputs": [
        {
          "output_type": "execute_result",
          "data": {
            "text/plain": [
              "      TV  Radio  Newspaper  Sales\n",
              "0  230.1   37.8       69.2   22.1\n",
              "1   44.5   39.3       45.1   10.4\n",
              "2   17.2   45.9       69.3    9.3\n",
              "3  151.5   41.3       58.5   18.5\n",
              "4  180.8   10.8       58.4   12.9"
            ],
            "text/html": [
              "\n",
              "  <div id=\"df-fd79b407-7b1b-4a28-8449-2a03d42448dc\">\n",
              "    <div class=\"colab-df-container\">\n",
              "      <div>\n",
              "<style scoped>\n",
              "    .dataframe tbody tr th:only-of-type {\n",
              "        vertical-align: middle;\n",
              "    }\n",
              "\n",
              "    .dataframe tbody tr th {\n",
              "        vertical-align: top;\n",
              "    }\n",
              "\n",
              "    .dataframe thead th {\n",
              "        text-align: right;\n",
              "    }\n",
              "</style>\n",
              "<table border=\"1\" class=\"dataframe\">\n",
              "  <thead>\n",
              "    <tr style=\"text-align: right;\">\n",
              "      <th></th>\n",
              "      <th>TV</th>\n",
              "      <th>Radio</th>\n",
              "      <th>Newspaper</th>\n",
              "      <th>Sales</th>\n",
              "    </tr>\n",
              "  </thead>\n",
              "  <tbody>\n",
              "    <tr>\n",
              "      <th>0</th>\n",
              "      <td>230.1</td>\n",
              "      <td>37.8</td>\n",
              "      <td>69.2</td>\n",
              "      <td>22.1</td>\n",
              "    </tr>\n",
              "    <tr>\n",
              "      <th>1</th>\n",
              "      <td>44.5</td>\n",
              "      <td>39.3</td>\n",
              "      <td>45.1</td>\n",
              "      <td>10.4</td>\n",
              "    </tr>\n",
              "    <tr>\n",
              "      <th>2</th>\n",
              "      <td>17.2</td>\n",
              "      <td>45.9</td>\n",
              "      <td>69.3</td>\n",
              "      <td>9.3</td>\n",
              "    </tr>\n",
              "    <tr>\n",
              "      <th>3</th>\n",
              "      <td>151.5</td>\n",
              "      <td>41.3</td>\n",
              "      <td>58.5</td>\n",
              "      <td>18.5</td>\n",
              "    </tr>\n",
              "    <tr>\n",
              "      <th>4</th>\n",
              "      <td>180.8</td>\n",
              "      <td>10.8</td>\n",
              "      <td>58.4</td>\n",
              "      <td>12.9</td>\n",
              "    </tr>\n",
              "  </tbody>\n",
              "</table>\n",
              "</div>\n",
              "      <button class=\"colab-df-convert\" onclick=\"convertToInteractive('df-fd79b407-7b1b-4a28-8449-2a03d42448dc')\"\n",
              "              title=\"Convert this dataframe to an interactive table.\"\n",
              "              style=\"display:none;\">\n",
              "        \n",
              "  <svg xmlns=\"http://www.w3.org/2000/svg\" height=\"24px\"viewBox=\"0 0 24 24\"\n",
              "       width=\"24px\">\n",
              "    <path d=\"M0 0h24v24H0V0z\" fill=\"none\"/>\n",
              "    <path d=\"M18.56 5.44l.94 2.06.94-2.06 2.06-.94-2.06-.94-.94-2.06-.94 2.06-2.06.94zm-11 1L8.5 8.5l.94-2.06 2.06-.94-2.06-.94L8.5 2.5l-.94 2.06-2.06.94zm10 10l.94 2.06.94-2.06 2.06-.94-2.06-.94-.94-2.06-.94 2.06-2.06.94z\"/><path d=\"M17.41 7.96l-1.37-1.37c-.4-.4-.92-.59-1.43-.59-.52 0-1.04.2-1.43.59L10.3 9.45l-7.72 7.72c-.78.78-.78 2.05 0 2.83L4 21.41c.39.39.9.59 1.41.59.51 0 1.02-.2 1.41-.59l7.78-7.78 2.81-2.81c.8-.78.8-2.07 0-2.86zM5.41 20L4 18.59l7.72-7.72 1.47 1.35L5.41 20z\"/>\n",
              "  </svg>\n",
              "      </button>\n",
              "      \n",
              "  <style>\n",
              "    .colab-df-container {\n",
              "      display:flex;\n",
              "      flex-wrap:wrap;\n",
              "      gap: 12px;\n",
              "    }\n",
              "\n",
              "    .colab-df-convert {\n",
              "      background-color: #E8F0FE;\n",
              "      border: none;\n",
              "      border-radius: 50%;\n",
              "      cursor: pointer;\n",
              "      display: none;\n",
              "      fill: #1967D2;\n",
              "      height: 32px;\n",
              "      padding: 0 0 0 0;\n",
              "      width: 32px;\n",
              "    }\n",
              "\n",
              "    .colab-df-convert:hover {\n",
              "      background-color: #E2EBFA;\n",
              "      box-shadow: 0px 1px 2px rgba(60, 64, 67, 0.3), 0px 1px 3px 1px rgba(60, 64, 67, 0.15);\n",
              "      fill: #174EA6;\n",
              "    }\n",
              "\n",
              "    [theme=dark] .colab-df-convert {\n",
              "      background-color: #3B4455;\n",
              "      fill: #D2E3FC;\n",
              "    }\n",
              "\n",
              "    [theme=dark] .colab-df-convert:hover {\n",
              "      background-color: #434B5C;\n",
              "      box-shadow: 0px 1px 3px 1px rgba(0, 0, 0, 0.15);\n",
              "      filter: drop-shadow(0px 1px 2px rgba(0, 0, 0, 0.3));\n",
              "      fill: #FFFFFF;\n",
              "    }\n",
              "  </style>\n",
              "\n",
              "      <script>\n",
              "        const buttonEl =\n",
              "          document.querySelector('#df-fd79b407-7b1b-4a28-8449-2a03d42448dc button.colab-df-convert');\n",
              "        buttonEl.style.display =\n",
              "          google.colab.kernel.accessAllowed ? 'block' : 'none';\n",
              "\n",
              "        async function convertToInteractive(key) {\n",
              "          const element = document.querySelector('#df-fd79b407-7b1b-4a28-8449-2a03d42448dc');\n",
              "          const dataTable =\n",
              "            await google.colab.kernel.invokeFunction('convertToInteractive',\n",
              "                                                     [key], {});\n",
              "          if (!dataTable) return;\n",
              "\n",
              "          const docLinkHtml = 'Like what you see? Visit the ' +\n",
              "            '<a target=\"_blank\" href=https://colab.research.google.com/notebooks/data_table.ipynb>data table notebook</a>'\n",
              "            + ' to learn more about interactive tables.';\n",
              "          element.innerHTML = '';\n",
              "          dataTable['output_type'] = 'display_data';\n",
              "          await google.colab.output.renderOutput(dataTable, element);\n",
              "          const docLink = document.createElement('div');\n",
              "          docLink.innerHTML = docLinkHtml;\n",
              "          element.appendChild(docLink);\n",
              "        }\n",
              "      </script>\n",
              "    </div>\n",
              "  </div>\n",
              "  "
            ]
          },
          "metadata": {},
          "execution_count": 17
        }
      ]
    },
    {
      "cell_type": "markdown",
      "source": [
        "#Features are:\n",
        "\n",
        "TV Spent\n",
        "\n",
        "Radio Spent\n",
        "\n",
        "Newspaper Spent"
      ],
      "metadata": {
        "id": "WPmjfT7eBXyo"
      }
    },
    {
      "cell_type": "code",
      "source": [
        "data.shape\n"
      ],
      "metadata": {
        "colab": {
          "base_uri": "https://localhost:8080/"
        },
        "id": "RLqBAL5LBID_",
        "outputId": "91d42ae7-79e8-4b3a-d540-b0f4c032b449"
      },
      "execution_count": 18,
      "outputs": [
        {
          "output_type": "execute_result",
          "data": {
            "text/plain": [
              "(200, 4)"
            ]
          },
          "metadata": {},
          "execution_count": 18
        }
      ]
    },
    {
      "cell_type": "code",
      "source": [
        "data.columns"
      ],
      "metadata": {
        "colab": {
          "base_uri": "https://localhost:8080/"
        },
        "id": "b6sixDwtBrtP",
        "outputId": "932a08d2-ca33-475b-bd1d-b1ec1b3d59d0"
      },
      "execution_count": 19,
      "outputs": [
        {
          "output_type": "execute_result",
          "data": {
            "text/plain": [
              "Index(['TV', 'Radio', 'Newspaper', 'Sales'], dtype='object')"
            ]
          },
          "metadata": {},
          "execution_count": 19
        }
      ]
    },
    {
      "cell_type": "code",
      "source": [
        "data.plot(kind='scatter',x='TV',y='Sales')\n",
        "data.plot(kind='scatter',x='Radio',y='Sales')\n",
        "data.plot(kind='scatter', x='Newspaper',y='Sales')"
      ],
      "metadata": {
        "colab": {
          "base_uri": "https://localhost:8080/",
          "height": 820
        },
        "id": "9vT9AEZOButu",
        "outputId": "4979d295-35a2-4bc6-d272-ab98c9cf045a"
      },
      "execution_count": 35,
      "outputs": [
        {
          "output_type": "execute_result",
          "data": {
            "text/plain": [
              "<matplotlib.axes._subplots.AxesSubplot at 0x7ff232303510>"
            ]
          },
          "metadata": {},
          "execution_count": 35
        },
        {
          "output_type": "display_data",
          "data": {
            "text/plain": [
              "<Figure size 432x288 with 1 Axes>"
            ],
            "image/png": "[encoded data removed]"
          },
          "metadata": {
            "needs_background": "light"
          }
        },
        {
          "output_type": "display_data",
          "data": {
            "text/plain": [
              "<Figure size 432x288 with 1 Axes>"
            ],
            "image/png": "[encoded data removed]"
          },
          "metadata": {
            "needs_background": "light"
          }
        },
        {
          "output_type": "display_data",
          "data": {
            "text/plain": [
              "<Figure size 432x288 with 1 Axes>"
            ],
            "image/png": "[encoded data removed]"
          },
          "metadata": {
            "needs_background": "light"
          }
        }
      ]
    },
    {
      "cell_type": "code",
      "source": [
        "import seaborn as sns\n",
        "sns.distplot(data.Sales)"
      ],
      "metadata": {
        "colab": {
          "base_uri": "https://localhost:8080/",
          "height": 351
        },
        "id": "1x1XCBpvFj9m",
        "outputId": "53557a2c-c7cb-474d-91e7-e920c175e5be"
      },
      "execution_count": 36,
      "outputs": [
        {
          "output_type": "stream",
          "name": "stderr",
          "text": [
            "/usr/local/lib/python3.7/dist-packages/seaborn/distributions.py:2619: FutureWarning: `distplot` is a deprecated function and will be removed in a future version. Please adapt your code to use either `displot` (a figure-level function with similar flexibility) or `histplot` (an axes-level function for histograms).\n",
            "  warnings.warn(msg, FutureWarning)\n"
          ]
        },
        {
          "output_type": "execute_result",
          "data": {
            "text/plain": [
              "<matplotlib.axes._subplots.AxesSubplot at 0x7ff22648ebd0>"
            ]
          },
          "metadata": {},
          "execution_count": 36
        },
        {
          "output_type": "display_data",
          "data": {
            "text/plain": [
              "<Figure size 432x288 with 1 Axes>"
            ],
            "image/png": "[encoded data removed]"
          },
          "metadata": {
            "needs_background": "light"
          }
        }
      ]
    },
    {
      "cell_type": "markdown",
      "source": [
        "# Scikitlearn Linear Regression"
      ],
      "metadata": {
        "id": "TOBqsnmRLYJP"
      }
    },
    {
      "cell_type": "code",
      "source": [
        "feature_cols = ['TV']\n",
        "x=data[feature_cols]\n",
        "y=data.Sales\n",
        "\n",
        "from sklearn.linear_model import LinearRegression\n",
        "ln = LinearRegression()\n",
        "ln.fit(x,y)\n",
        "\n",
        "print(ln.intercept_)\n",
        "print(ln.coef_)"
      ],
      "metadata": {
        "colab": {
          "base_uri": "https://localhost:8080/"
        },
        "id": "Tum5FiJCLe3Q",
        "outputId": "9aaf35a2-874d-448d-dc69-650e458307c4"
      },
      "execution_count": 39,
      "outputs": [
        {
          "output_type": "stream",
          "name": "stdout",
          "text": [
            "7.032593549127695\n",
            "[0.04753664]\n"
          ]
        }
      ]
    },
    {
      "cell_type": "markdown",
      "source": [
        "# Interpreting Model Coefficients\n",
        "\n",
        "![image.png](data:image/png;base64,iVBORw0KGgoAAAANSUhEUgAAAfEAAABmCAIAAABURD9lAAAgAElEQVR4nO19eZhU1Zn+d5faq3pnaWyRMdo6EpYRTAgxo0ZAQwwxaiQ8JhhFGR+3mYxIMpPH5NGYETXBOGOegCYxmcloiCEzboRFCBCQMIKyCEQiImATtu6u7qpbt5Z77/n98f7u9xx6KQGru+jivH/wVBe37nLud97znW/VhBCkoKCgoFAR0Mt9AwoKCgoKJYPidAUFBYXKgeJ0BQUFhcqB4nQFBQWFyoHidAUFBYXKgeJ0BQUFhcqB4nQFBQWFyoHidAUFBYXKgeJ0BQUFhcqB4nQFBQWFyoHidAUFBYXKgeJ0BQUFhcqB4nQFBQWFyoHidAUFBYXKgeJ0BQUFhcqB4vSBB+EDf1qWJf+X53n8p+u6+LdQKBCRbdt8mHyM4zhEJP9Q4UyD67qe50EGIDaMfD7P3xQKBVlOMpkM/qtQKORyOf4ex0Cu6HgRVehraKonxsCC67pCCNM0Xdc1DIOIHMfJ5/PRaBQH7Nix45VXXlm2bNmuXbtSqVQ2m00kErquX3TRRZdccslnP/vZ5ubm5ubmbDYbDocty4rFYkTU0dFRXV2NL8v5eAplQiaTiUajmUzGNM1gMAhJWLx48YYNG3bs2LFly5ZDhw4RUTweHz58+NChQ0ePHn3jjTd+6lOfIqJkMllTU5PP5wOBAMRSCKHrOhHlcjlN04LBYJkf74yCUBhoSKfT+JDNZj3P4+9//OMfn3/++USkaVo4HDZNE684HA5rmoYFgIguuOCCxx9//PDhw/htMpkUQriu29nZWZbHUThNkM1m8SGVSv3oRz8iooaGBl3Xwc6QK3zQdR00ff755//iF78QQnR0dEDbAPL5vG3b+MziqtA/UJw+wICJ19bWls/n8U1nZ+e2bdsmTZpUV1eHKcdqkWmaUMOBqqoq/tzY2Lh48WKm9UKhIIRwHKeMj6ZQRniel0qlhBDLly9vampi+cG/mqaBx0Hr8Xhc1gtHjhy5e/du+VRCCJZPJVT9DGV7GZDI5XKhUIiIDh48mM1mJ06c2NHRkc1miSgcDhuGYds22z01TYtGo9lsFvviYDAIw3okEnn44YdvueWW2tpaHIlNdJmeSaH8WLRo0YwZM8LhMIQnl8sFAgE4Y4gIWz0Y0GFgqa+vT6fTtm0PHTr0N7/5zaWXXprL5VzXhSbBR3qex8q+Ql9DcfoAA08PIUQ2m21razv77LPxEg3D0HUdM9AwDE3THMcxTdNxHF3XsYYTkaZpQohgMJhIJFpbW5cuXXrVVVe1trZGIhE2yiucaXBd97nnnps5c2YkEsGSr2ladXV1MpkkokAgoGlaPp+Xf5JIJFKpFBFVVVV1dnaGQqHt27fD+gfBIyLbtiORiOL0/oQa6AEGDjNwHCeZTF5++eX4HjoU6+au67quGwgE8Cd4HP5PXdcjkUg+nwePX3311du2bYvH49FotKOjowyPpHAaYMeOHTNnzkwkErZth8PhUCgkhEgmk7DjCSHYPcPWvFQqFY1G4R0lIsMw/u7v/m7Pnj1ElM/nEQYDsVSKY39CcfoAQyAQgMYdCATmz5//7rvvgrh1XZd5PBKJ/MM//MO2bdssy8pkMk8//XRDQwOMM+RrT+RPtqlTp2YymVwuV11dXb4nUygnZs2apet6KpUyTZPlBGt/Y2Pjd77znf379wsh3n///Tlz5oRCIYhZJpNJJpMIkvE8z7KsBx980HXdaDTKu0mSnKsK/YF+td4rfGTA45TP5/fs2cNqeCgUwhQCUxPR4sWLxfEhB4cOHRo/fjzUrkgkwmEwRBQIBL773e8K37vVHb19X/FA8AYen319CPBANDe+H0Dj47puLpcTQshe8Z/+9Kdwz8AXCqkwDMMwjEGDBm3evJl/XigUXNfdvHlzbW0tH9wlVPGPf/wjjwyupdCfUJw+wOA4DmbjnXfeyYxMvsUTTL1o0aL29nYOTfM8D9y0ZcuWQYMGMZtjGhNRNBo977zz3nvvPRWiwMAgAzKnIzen+zEDCwhKyefzlmW5rjt27FgWJAgGPldXV69bt07+CUcovvrqqziYneqRSAT2mWnTphUKBdYnBu4oDVAoTh94sG27paWFGblLltB1113X5XjYZPD5qaeeYntoKBTCphhnePzxx/knrISesYD2LcdZe56HL23b5kA9fN/R0VGm2zxFQB4cx3EcZ9myZSSZR3jPR0Q/+MEPcHwmk+EPtm3j57feeqsseJqmsVaxefNmpnL4fsrxlGcoFKcPPDiOM2/ePCIyTRP6FPN7PB7ftWtXNpsFE0FVx4xKp9NIL/rsZz/LPM6zV9f1UaNG8dzzfJTvKcsMmYYKhUIqlepuRnAcZyAm1ICReRt35ZVXcg4R+UkMwWBw9OjRQohCoYDUNlSY4JPkcrkDBw4gkl3OFIX174477hBCOI7Di0cZnvNMhfKRDjwIIX7+85/DWYrIRc/zAoFAMBi84oorLrzwQiKCz4qDFogoEonABfqP//iP1K26S11d3fbt27ds2YI/WWtjQem/xzs9oGkadFIhhGma8Xgcg4mCJ1DMDcPApqdLkN9pDrxcBFAdOHBg5cqV8IXCfJdOp4koEAjcfvvtQghd17GfE0LIFV2EEE1NTddccw30iXw+jw+2beu6/vzzz2ezWV3XIWay80ahr6E4feBh3759u3fv1jQN0xIx6UKIfD5/7733kq+2o9SG67pQxvFvPp+fMmXK4MGDQUNsQm1rayOil19+mekbW2l8PgM5HRH9oDlYG1zXzWQycAxyaDb00HLf7MlB0zTP85CLsHbtWvJrbEFL8DwvFotZljVjxgyIEEQF5E5EruumUil8njlzJvniwVqCYRgdHR0rV67UNA3pEeV5zjMVitMHHlatWkVS0TvwsuM4gUBg0qRJ2PDats0GGabmo0ePBoPBUCh07bXXkj+HiSgYDHqep2nayy+/DBtrF2Y/A2PRhBCxWMw0zc7Ozi996UtwAA4ZMiQajS5ZskTXddgoMG4DqEYV9nZsc/uf//kfODmxLyGiYDDouu64cePq6+tRKQglvfL5PBYDwzASiQQY/BOf+MSQIUM0TQuFQtgysgKxZMkSXGIgLnsDGorTBxjy+fzq1avJZ+pQKMQ74ssuuwwGAcMwOKjRMAzomEQ0aNAgWMknTZpkmmahUIAKls/nTdMUQmzdupUj8+SLnoGczvppVVUViJuI0ul0oVCor68nSbclIs6eP/2haRruFmKzYsWKZDLJjhnDMBzHyWazs2fPzuVyhUIBRI8sJNQDwHk47/+qq65iZRzKAZT9bdu2QfDYFa/QP/gQTofrn/+Et4T/i4iEEPLeChIAUwARQWHk/2WB4F8dPXoU30BEYMvDYZzTyJSkQETBYHDVqlWBQADZ//LbmTZtGtjn/7tKdB0jiRpMeF+6rufz+U9/+tPQ6/FDXdd51q1ZsyYYDDJJ4cOZqWfJKZT5fJ51W+xj5OJonGM5gBAKhfbu3QvzNxZypK3B9j1lyhRY2LuUi2DLOMQpm81OmjSJzYCO46AiRSgUWrduneM4hmGUfcHjFKpsNsv+J5KquqN4Gfl7X5Z21EUgv/EAE11nZ6d8fpm7+GB8yZfGPOUT9ik+nNP5LR46dGj79u2GYcDIGAqFEMcaDAZ1XV+3bh0RRaPRQqGAAwqFgqwwovcCh/diGowbNw6MY5qmruuNjY2apo0YMcLzvOrqajbkKR8Lo7W1taOjQ44PI3+I/uZv/qZLKrZ8gBysVlNT09DQwOcUficNIcTevXuFEHJVVerWJEFhQAMhT0KIPXv28KvHxCQixCPW1NTIi1Z3wLIXCASam5t5ngq/bDqoc9++fezOKSPwvNlsNhgMBgKBtra2hQsXapo2ePBgeEcaGxsxQQKBwJ133gkPChHV1NRgN8PaD1BVVQXlFeGt48ePr62tTSQSsFLCGDVs2LCWlpZwONza2kq+ftA/BfJ6HW5MY9M0mU+HDh06atSowYMHY71CKwYOfP6v//ovOn7yyxsuaAHQLlGR+dixY+vXrz9w4IDrurW1tdFoVAiRTqfD4fDcuXPZKgdPlAJj//79mDDy8IK4EfGCP6E6sXpOfskXItJ1PRqNXnDBBUIq6QUF3/O8d955hwsw8VXU3rligIJuRCSE2LlzJ+/kWA/wPK+pqamqqor3eb0BYtbc3Cx/I/tL//znP1O5g154IxsOh6FK19XVzZgxY8aMGZlMJhwOc/AY1MoFCxY8++yzXMiMiFzXNU0zl8thUoDlo9FoW1ubruvPPPPM9u3bk8kkK68427PPPnvWWWcREYLNUqlUW1tb//R76pXT+U04jpPJZHCj4XD4jjvugFbIriEY2l588UUiSqfT6HUCTZxT77r72RoaGn784x/jczKZxLqHWhO33nrrkSNHCoWCaZrwxsgGnDMc+/fvx8LpeR4zL3bNZ511lhx6iCnXZUbxLL3wwguFX80R3+PD+++/HwgEWNuSj1GoJAghoFGRLxXcNmvo0KEcJVXkDLC0RKNR7PnA49DeUNL53Xff5XP2/QP1jGAwCG4hoqqqKhhDampqHnvsscGDB+N7uH+hswsh7r///i1btkQiETgDOLoMB8NURUR1dXUbN26888472e5kmiYYbObMmVOnTs1ms+gb5bpuIpGoq6tj3u9TfMi2CHQcjUYDgQAyLG666SZmbd61ua57+PDhpUuXIhgAL5uICoUCRgp/CimpbM+ePc8//zxYCSKFS9xxxx2RSGTw4MGmaeJlyAYcBZRSIp+ywdrYNqKoKfWuXON4kH5TU1OPjtB3331XVtmUhl5h4MhXIQTMAiQ5PPFnY2PjicSVw8RKRM3NzbJxDzKmadp7772Hb8rrj4FLAI+MvI3W1tampqaf/exnMMtgXoCaAoFAa2vr3XfffeDAATwR+g1wOgg0Hqj89913HxGFw+FYLIafO44zYsSIefPmdXR0hMPhaDQK8zX6tfbPOPTK6fl8Hi4Ofq/IvGhubh4zZgy+wTPz7v6pp57SNC2bzbL5CZSNw2BMDwQCMKC/+uqr4XDYdV1W9mF/nzlzZnt7O/mdHEjFQh2Pjo4OWT3HNshxHGz0wO/y/wo/nU8+iRCCw9GYuDHI7733HmtnrLCr8a8YgHzhwUKEQvfWdE1NTfhcxPfLsz6fzw8ePFiOlYIRL5fLffDBBzisiz26P8Ee2lwuh+2+ruv19fVCiGuuuWbu3Lm4YfgFQb6GYaxfv/773/8+jwyYSrZexuPxhx9+eP369WA8y7J4rObNm9fY2MgmF04EyWaz/bPf7ZXTsY/AZ9u20+k0T/VZs2bB3oLn59e/cuXKQ4cOcf17LHr87oVUgtmyrB/+8IdM1oigIqLm5uZPfepTtbW1TEMYCKUtMlpbW03T5Cp6/P0555zDn1lbl72dMlirQqYf3hfI3bZtNKYhf7Z3yThVGOjgaYha5/I2mog0TUOowoeeh/MYelPqs9ls2Wcu+jShKDx0xGw2i1yqQqFwzz33XH/99ViBEPWLX5mmuXDhwueee86yLMwLOUfPtu0333zzgQceQJV5aKUwx8+YMWP69OkIAyWiRCIRDodBbtXV1XIibt+hV06Hloe7iUQiyI2Gc3z69OmxWKzL2ouw1g0bNmDgZNdclzO3t7f/5S9/gS3PMAw4WlFzefbs2USUzWbhm21vb1dt7Ltg3759HJLFkzAYDNbV1bHXoYv5UnZ08zra3UoDcpfXchbxss9MhVIBtJLL5RzHgW0E1MweUU3T2IJa5Dys7weDQZyTc9z4f2GcKe8mTwgBsyT+hNUbtwrDw3/8x3/U1dWZpik77fDs999/P7YyQgiUT8DjJJPJm2++mYiwEiDONZvNDhky5NFHHy0UCggI5EnKS2Y/7VfESQKkcNddd5G0a+OVavLkyXLtJ1juPM9DwSD+/vbbb+caUnIvnqNHj57s/RQHrghLFhct6h+g8BM+yy3VPyI+97nPdXmDnLSNmCLyFbHijeiYprtUAYNIsL+Er8ulB/Fftm1zMCWGlwu7n7a1VbkKFW6YCy72iEKhwA9y2WWXkR8SZ5rmqlWrhFSI/EQqnaEZrPCLO37kRzl14G4xF3gKc7oDT0YoAUXyY+UNOkuRHAqhadqUKVOEVAMSN8BFweT76Q65UjT/0LKsUo0D3j5eMZL4mM1ki9PEiRPz+Xw+n8f94PhvfetbGAEcyXrnK6+8Uqrb+yg46dBRvLNp06aRtNvCxsRxnI0bN+7duxc2JmQnokRGKBTCRqxQKBw9enTFihVc4ofdyrfccoscNP0RgdNqmrZq1arhw4drmoZE574GZP3aa6+FFkBEyWSyhCG6PNnY2I2dIx5Z7mBX3GYSj8d5Hn7owUSUSCTwAfkp4XBY13Xbtjs7O7m4FftLTs8SH9iFkG9jLZ7Qr0m1SqqqqiKRSJf0K65lWPxh8XZQwBYVessbRITXLStS7JURflQfola0bg1IZUDY2G6DHxbXQ4UfN4nMUiyxvAZwRWj8yUoGKAJ0UcJ+uSBiLBiXXnrpwoULkRNDRPAjElEwGHzjjTfuu+8+WNvBmGvXrp0/fz4izfDqwWw333zzpEmTcPLy1nQ7RU6fMmXKyJEjYU/n/wqFQp2dnYsXLyaiYDAIiefXwC3WXnrppffff5+ON9cKIW677baP/jwMnDyXywWDwcOHD5um2U+BRLquaRrqTWPjVtpEA0wedMbguDEiQsI6s7lpmsVpOpVKsfvoRNIgMQnB4JqmtbW1aZoWiUS4QzykHNJ8GuZVgrCQAShn07i9QPjBRUII27ZRxouIgsEgtuHt7e1sR+YiX93BoW8kbaQ4vbAswF3xA7I3KxQKhcNhxN7Zto1YhiLnweqOmGO88SJcxh57IQRSW5C9yJ4zhGNofrZELpcDaULCEa9S4oHw4/oMw5g9e/b06dM7Ojo4LgMBQoVC4Wc/+9mvf/1ryL9lWV//+tc59hEUl0gkGhoa5s2bFwqFMJLldUGdiv4ILvj6179OPsXLVu9f//rXuVxOjm/lNDMiMgzj5z//OREFg0E4UTE6F1544fjx40uYr6j55VBYmZKVgr4D9piI5hw0aBD5poxSnV8cb51kvQ9xaaFQKBKJaJqGaYMU3x4RDoehlSDACUFaRVTITCZjGAYsrZqm1dXVkR/Yi9vAKh4IBJj+TitomhYIBFj7E37Go9EL5KwrDLKmaVVVVTA6BYPB2tpaVkrQC7BHEBEinbFzxTnL6CXiMCf8y/7wcDicy+Wy2SxYCYSFUeoRRBSNRqurq7Fo4VdF5EfzG91hA4RZiXAR+VcgfU3TEIWBqgy4Q7lR6kcHSAx6HgITn3zyybPOOovjpzU/xCCTycyZM2f//v35fP6pp57661//Sv4SVSgUYrFYKpX6z//8z0GDBsEy0dnZWV4v4KlwOt7fddddl0gk8BnB+bAA7Ny5c+fOnUQETkFKLhGhe8A777yzefNm8rlJCIHAz9mzZxfnlJMFtKRsNtva2trY2EiSL6hPYRhGPB43TRP1amBILeFzdbF7Ct+PHY1GDcNAyW+S4ke9XpDNZhEWqUuhbEW4OBqN4n8zmQyuaNs21gxsCyzLsiwLyvtpmKOEYYEN0LIs1p17Gx8iYjaB2m4YRmdnp6zjCyHQfqTIeVKplO5rmshOLPuCp/tlzcl/6bqugy4hvZiSSHosMj6ZTKajowOLBJQJ0bs7lMUSaS6gVB5Mxwe2npqmcQ0WWQ8rIVeyD9PzPNhIhwwZ8vTTT3PDXjkbq6WlZfr06Zs3b37ggQdwG/htNBq1LGvq1KlXX321kOL6yoxTsMHDUVAoFG644QaS+hqTv1DPnTtX+J6oLm0J0ZAB0P0CAIlEorW1teS+I25MI7tWetsjlwrcVAibSvxZwk67bLPTpSwPAOYX8u0D5LtxegSmE3RJkA6Tu+jJR4pHYK9va2srH/bBBx/gS9iL3dI5hEsLbsAGQHHu7WAUrcTnyZMnk2QsXrZsGVyd/FqLnAfHdHR0dHf6lQW4um3bsn2gO1diQ1NVVdWb/LBNdejQoSR5R7VefKQsFV2EKp/P53I5+Uu5lhHuk78v+Wjwi0MgkBDi3/7t33h+6b5hkz1PeGpN03g1Ouecczo7O9va2uSnK68b/BTjXoAlS5agCCfLAajkYx/7WGdnp/wrjJ1lWcjHxRixJN16663439KOBUsDrs6xB32Kvr4E1lF5BQW++MUvctSQ67qdnZ0gkd7Wnu985zvdk5W5ulN3ThdCpNPpt99++6233vrFL34xb968H/zgBxMnTpwwYcKwYcNWrFgBxvT8ftanISCTnZ2dLA8n8quDBw9ef/31XI02GAwuXboU/8WcXvyR29vb8QHiLYcM9T9c14URPJPJgI4xH6GrElEikXjsscewk+M44x51FwhJe3v75MmTIYrRaLQ3ThdCyI2n9+3b96tf/WrOnDmjR4+GHQ9LyN///d9/+9vfXrRoES/ArL+XdhywQuAq6XQaHyAYX/nKV0iyKrOuA53JMAzEC8DfsGjRIpzwyJEj+FB2+T/FfqR4+EKhAI7mRuO8vq1YsUJebIUQjuOgTL6cXIpfbdiwoVTPw4DkyTcA9LaXLBWEtPizBJdQIr/97W/DDk6SKxLzx/PD1PjBi+iPP/zhD/l9hcNhWVMTvXC6JsWuYR7G43FM5k2bNjFFnp56Ou4ql8shZOtEuljg0VgjYyM7O731bhmYPcI0zddee034i0o/x9R2AQhdCOE4zmWXXSa/d9jNiOi73/2uOAFlk6VrypQpnATXG6fzHNy5c+fdd98NhVc207HBHbQwZsyY//7v/+5yoRKuhaz1y7sE3Or+/fuHDRsmv0HEBeCGdT/6k4hmzJghpA0f4n2LTLr+wSnG2GmahkJlCFTnUga67zV65ZVX2FsYDAbh5l6wYAHbgoVvLGtubp4wYQJs8V7p/MXczMXzPFRf4zvvU5A01UEHJQ/s42w017fMGoaxceNG5lzdL5AbCATgl8NPEG6InwghdF1Hoi8CxXDnEyZMcP36qPLBhUIBqhxGkgvlu366L3LqSvukJYSu63AAcBE+kt5Uj3BdNxKJWJaFSEQIcygU4irYMMXK0tUdiAUAV0K/K37RfgCeHUtUNptlWuch2rx5s+d5htQBo0cwHeu6zkGQQkqxmTBhAvnm+3A4DJP9N77xDfAA+fVC5HosfLZ33nnnpptu+s1vfoMy7liKSuinMU0T0st8Tb7j5Oyzz37hhRdIsrbhe7xEz/Mg6oZhIAKSNdqqqqpcLlfGQgjASYuX51c/x8o8depU+dVCVyWiF1980bZtzS+MHgwGd+3ahWQN27ZjsRjU+Xw+f+eddxIRwoBKKO5sEeIEEwR4lOr8RYBB4KBDWXn56GhsbGThFn7Qi+tn05A00+QFBl9qmoYEaCHE/v37+SZ1XXf90sr19fXdZw6WB5TbhhryxBNPkLS6nP4AQZN/z1jqegtWYe8CxhCqHIKUER0bCASwU0mn09lsNpFI9HYejj7iOynvnNek8svYZnEwCdZyXSqDXpzT+ZiWlhY+A0lx6LFYTPihEDg5lgrHcSzLmjBhwk9+8pPVq1fDu97a2rpo0aLzzz/f8zxN07LZbG1t7fTp09evX49ETdm1WxJwUAaM6SR5jz/xiU/MmTMH9MXPhZBWELcQ4ve//30ikdD9ABjMejl3r1w4FU7ndVgIMX78+EsvvZSk4g8Q2ffffx/ta8l3eb/22mvpdBpjxC71eDx+8803M/2V6qlIWvYRKBKJRILBYP84ppEN5EkdBkooi83NzWBYvhYRCSEymQzXmmd9x/NbmiDoWPPTi4QQSBEgX6/nfdLZZ5/d/aIgAoRmdnZ2Oo6DQO8S5oD0NUBA6XS6vr6ezb7Q1HoEDshkMmztRXgo+Y1f0JUbNpxUKtXbeYiotraWq0l7vnO1PKNARNL2a/jw4WxZ4k1ePp9HXKxbtJ0FnySfzyPNkCQlg4ii0SjXdyQ/Cs627fPPP/+hhx46ePDghg0bpk+fftlllyWTSURtffnLX37rrbe+8pWvQIAhY3fffTfC50o7j2S2Ye7GMoySSkuWLIEWiFeMqE3EPkUikVGjRl1xxRUcOYOYbHlfW6r7PBWcrLEGWl4+n2cD2XPPPSefEDt00zS/+MUvsvklnU6PHTuWiDRN4xxrIrr99tuFFJBQQlOUfIfCL14o+t6ezjZ0OcqihHEvqNHBixP0Asy9t99+mxP0+amFbxYHfwnfKPnxj3+c7Q/yNuLxxx9nq2UXy/ixY8fYCvnII4+wV42I1q1bxxc6Pe3pjGQymU6nT9yRlUwmr776akxsaHavvvqqfMCHxmNwsJDneSWUhFMGlEohxDPPPMMyINP3oEGDZHdUj2AhOXLkCEmRIXyeUCi0fv16nnTi+AAY6Lx8nmQyibPZtp1MJqurq3FCLKjo3cHDWCp0t87ncjlMW9RrxLN0qWPDf65ZswbOW36n7LMp7xQ4xTxSNotns9mrrrpq2LBhHPeDAP5gMPjaa68dPXoUlvQ33nhjy5Yt5MdTsw1r1qxZMkOVcFuKFDV8tiwLt8cJYH0HKD6WZSFcF3uUEvaVR+t6TvHgnGxN03bu3NmjYiVbkPGrfD7/l7/8xfOTToUQzOx/+7d/i8NEt5qO9fX1fP5UKoX+J6V6rn4A4s2rq6tjsRhMokV8bviJ4zjgF65/4HkefKS2bcNqYfq9X3o7DxY/109ZJKnXbllg+l2NPv7xj3OGkSe1WDl69OixY8eKG0INv4ohF0knf2sI1vM879xzz8X3mqZ1dnaybkFEcMujBlZHRweGpVAoIBWOA2na2toikchbb71FfZCohT0T+e4i13WRbf76668/9thjyN0jIs6gJD8zCwM1bdq09vZ2zU/Okk3H5XWZnMq1kTdsGAYqWFZVVX3+85+XbUnhcDiTyViW9corr+DFI7nW8PR3mLcAABXsSURBVJueoNLT6NGjR48eTT7dcJPWksB1XcylFStWjBgxAoRbX1/f15yOx/zqV78KdwL3qSgVotHoqFGjyHf28skjkYjsJhXd8jV4WIhoy5YtvP1n07wQwjTNiy66qIs9nSPwiMjzPNjNsHSV9tH6FFjO+Ybh50A4Wo+QixxAtSciJONgQwZTnpC6ePcILmOn+Xmb5PczKyNwM1yf2fXLHpCvlkID+9BSNkKI1atX91iI4mMf+1hDQwNLIELdNZ8BYYnCtRKJBKYqhte27YkTJ2K91DTNtu2//vWvqVSqtHmkAJvLhRBwohw9evS2225DmUbPL/7u+YmsmUwmFotxmZevfvWrEAxN03hClV3RORVO5zkPIfA872tf+xrEF98zuaOz34EDB1544QUhBAzBrBLOmjULbivt+HCRksAwDFTB9zwvmUyCg9LpdBG3WKngeV4qlWKPXMkds5/+9KdJcnaZpol6zWvWrAETab5pT9M0MLUnGfdd133ppZdwKs1faIXf0ZTt6UIKYMDihNRnjGQikYjFYm65UyJPHHBsgoVlzavI8USEYPZEIhGJRODGxxk8zzMMgzX0IufBFgrGjVwuB3drKR/slKBpmuM4NTU148eP5y/ZT05ECDv+0FFyHOfll18mfxeCM4DdJk+eLGcpo/6EZVmoXY4GQFCQ2dVBfjwlCrsHAgGuHIcWLiX0QHKhLvJrlhFRZ2fnXXfdtWvXLsdxUPKPiEKh0JgxYzh+CTpNIBDI5XKvvfbaT37yE5wEVO74Ld7KiFOxvSA20bIsqOrBYPAzn/nMeeedx5yOvk1EtHHjxvfee2/dunVtbW3YsaLoCjb7M2bMIN8y4HkemxRKAshKJBJpbGx0HIdTk3vzZZUQvGil02kUnCk+7U8KnueNHDkSAsR6BJ5369attm3zeOJ44ZfGZo52HGfdunXQPtg+gCj1T37yk/Cm0vEFCPlU5OtuqVTKsqwS2pT6GvykEGDDj//p7XisjlVVVZjMtm2z2ZSkwnPds3l7PBWOD4VCCIss4XOdLCCi5MfkgdNBvnizePDXX3/d85ul9AaES23cuBE/ZJcD/mvixIlyAQbDMAKBAKxe2OiACtAIk3wLFTTxDRs2EBG74q+44gr8pIR0yesNs3Bra+v69etfeOEF5FGiILBpmul0+re//e1DDz1EfrhHIpEoFAp1dXWu637zm9988803+fHLW50NOEXxCgaD0Nc4EZGT/hGtibhX13UXL178ve99r6qqClG9KBsSi8XuueceTseiPhgLJP4hdS0Wi32ogJYQnuehVRPEFFVQSnVyIcQNN9wAwy6+wbJKRIVCYcmSJbzpYZ2d/F0Ljj9w4MDatWu5nB4WPwjxVVddRf4+TNZicF3YoKH1m1LR2gEBWEL4Mx3f5687eLkSfiwHx+zrftH/LrucIqcqe0w6g+3gwWDQ8zzkTHJdIPLf6ZtvvtnS0sJFx6Ccuq6LD6C2QqHw8ssvsxxiTKCwe54H/QCZqPrx3Uqxa4HSzcskruV53qZNm8CSQohwOFxfX3/xxRfrus5hXSQF0eJu8SdM9iStW0Xg+pVy+VRHjhy56aabyK/RxEc+/vjj55133je/+U20LsCGlfwUDdM0r7/+ejiKHceRywGVDb35dk4W27dvj0ajoGl+f7quNzY29ljkdsWKFcIvkC/84IHSpti5rgtV9NixY/imf1L4uGAFV4EoYf6b67r5fH7atGkYajnLUdf1MWPGCD/MxrIsPK8c42FZ1j333ENSg2BMxWg0Go/HDx482Nt1MZIcwPDoo4/KL3oAxb2cLDzPw2RmXl63bp13fIatV9YSLqcADn1pb2+vqamB8pFIJLCS4V9UbULwOH6FmBAOZhNCjBgxgoji8TgbSTBQn/nMZ4SUolk8NIgvgTxbpLyg6i8RPfbYY7xD4rYYPLVRSLK3Z+QgtB4hR+UJIcaOHct7OH6WK664QvgifeDAAaTNQ/JDoRDnVH/hC18QkuSXN5W0ZJwuhPj85z/fJW5a/hyNRk2/LcjIkSMxoJxWeyLv/qTARCaLYD8AOgI+dwlyKuElXnzxReopnCYWi/3+97/nnkSWZWFIeVpu3bqVU9u7ROvfdtttRS6qOL3COJ1f09e+9jXmKTwjlLCGhoaDBw/i0biUELQEkPvTTz/NYwIeZNF65plnhCR1RSI45cJQjuMsWLCApToQCFx88cVCCHjmxfHjzLyJe8MTZbNZlM9jpu4NqB3Gfz7yyCNEhAK/5HsEm5qadu/eLf/qt7/9LflpGbJLmYieeOIJftLyykMpOR3dMKA5Yl9PUiKyTB9PP/20OJ5n8RpKeDNc+gfKMvJIRd/XZRTHr0yIwy2tni6EaGlpgakX48m7+3A4fNFFF+EwjvkF8OeMGTMCgQCHhUE6oWS9/vrrRa6rOL0yOL2LKDqOs2nTJvLN2UzQmLbf+MY3cJjruuBx189YFkI0NTWhnr6MQCAwZMiQlpYWPuxDUwEwQVzXfeONN3AShKUHAoGWlhYhRKFQAFdiWy9XuHzppZc4iAgvKBgMcjGZ+++//0RGY/369UTEz8JFXV588UWQBjwiUJUefPBBJnRN0zB3QqFQQ0PDxo0bT/xF9B1KxulYS4cMGQLbGXZPspQwv4dCocOHD8M2h99yvFepbgaAmUJm2H7I+OA5A/Wh5PsDTC3Lsp588kmSUv+xlIJkH330URzc0dGB46ENLV++fPjw4Xgj3MIU/1555ZVdStF2geL0yuB0+VZR6lYIMXXqVLktrZzKsGzZMrnKFeQ5k8nMnTsXB8N/JoeuoQQYa9bFJx3XvVq+fPmgQYN4aampqdm3b588ibrIJ+581apVXSqpyYbfJ598svhoIAl25MiRzFRsS7juuutwjLxFgBUegWfkh8xjMTBNc+LEiYcPHy57S95S6ulCiH/5l3/pIhMk2XwhBDfffDMOxqsC8+KbEo4FAhnxWR5lp48h13vjmymtHR/PdezYsbPOOouOr1/P26OFCxcKfzwxvHv27GFdnrqlj65Zs6b4RRWnVwanAxBO/JvJZP70pz/h0aB+YsJCTgYPHsz2h7a2NlDwL3/5y+7THMIwdOjQ9vZ2NnhCVouLhOd5S5YskU0uF1xwwbp16zhxFKG6QghEH2UyGd4urF27lncV3SfCI4880ttFoXoLIVCFEFYjrnVxwQUXYIvA+wO+1Xw+v23bNhjW8cjcioCI7rrrLlFueSglp+dyuV27diFGW1705G1dPB5fu3atvOzLqbSl9S24xxeMRdh4Cc/fGxCTjqv3RdF2uHxt254/f348HmdR5o0RkvRmzZq1bdu2jo6OvXv3zp8/n4gSiYQpdXlHBK5pmjfeeCPOXGT8FadXEqdzWxshGeV4kiLNm8sN1tfXP/TQQ/v37xdC7Nix44YbbkDPJqZRju8mItAom93lxaM3QDhZ57vkkksg4WzuEMe3tZGxatUqvm05uAglfR566KHi47BkyZJ4PA5S5vr4hmGsXr2ajwFH8YYbd7JgwQL8CuTGc1DX9aVLl5a3AkQpOR2MMHbsWG5pL/M7VsKRI0fKB7OvpuSeYmYW8Hh/eqLlVQQfSm5PZ6BFBnfalL2moG9WPXhlleOIiejcc889duzYhxo9FadXBqfLW8Z8Po8/kW4yePBgRNCTVEcIH5CuRccDgsQhodFoFMoBN2PBVYrLwy233MJn0DRt9uzZmCyYtp7nuX6Ii0ysUJUcx1mzZg1UGZZn2eQ7f/783q7rOM7evXsbGhrINx/x+/3Wt74FV5zjODJvyDpiOp2+8cYbA4EArmv6Lex1Xa+pqcH6Vy6U2PYihFi0aBFJPgT2C2OL9Ktf/arkVzzTAHGHkrVv375x48axEHPENElR2Dz+8oSECA4ZMuRPf/qTOAGr15nG6dwLybKsadOmcYi6YRhocCGkpZrVyQGNlStXnnvuuVxJX1YOoL1yTSc+QPbKjB07tnioCbJ4hKR033bbbfgtiHj+/PkYUpZGvAXeXnff0P/hD39gPUYOx4Bkzp8/n9cw9gqgoa7wWxJ2KUZ9+eWXcy9G4a9PlmXhirLq09LSwoZ4zofHgIwbN0744sFGnn7rf1RiTrdt+9ChQ3KwKvlhFYZhNDQ0HD58WFTKtC8LIO7weUJKLMv65Cc/KZfW65IQwH8i/JaVr1gstmvXLq6QV9wwdaZxuuyK4B6wEGPmdCHN9oEO0DGSfdAknXoBAktYRUUDvHHjxmWz2S6hVjLYws5G/Llz5yIRDPL5/PPPM4EKIVKpVJf9rutXPcSXCLGH7UVOH0MdHtw/217QChyfcZ6HH34YC4lcJpZ8xxLfZxebD+YIbx2WLl3KxnRd6n8UiURgWBfHh432j++0ZJwumxdmz54tL+Y8XoiArow5Xy5A1JhH0Ovygw8++PKXvywnRITDYTmlLRKJsO0FKskll1zS3t7O1fKOHTtW3JF7pnG6EMJxHMRaTJo0ibf2hmHgYTmwegAZXoqAKe/dd9/lIjDgbg5j6zEfgohmz56NgvLFL8ExEUKIBx54QN44Pvjgg93vRBzf6RsOUuYZjD8WIQ68ISlgPBQK/fu//7sQgksrc/3t9evXy4eB1mOxGAeMocYG7lmWaqTFCsmE9b3vfY8ztuSFMBwOr1y5Uu5hzXlefY3Sc7plWffee6+8qpMfZbFp0yZXKuGtcApgsWCd6MCBA/iwevXqz33uc/KuWabyYDAI2b344otfffVVeQbCxS+KvpczjdNZH8xms1deeSVznK7rS5Ys4cM4KaEC0NnZycz1u9/9Dg4wuectG6Di8TgSlK6++uo//vGPnNpWHDykCxYsgJTW1dVpfttSIYm0ON6tCmbvMs7I1l6+fDmbeVGzgReeSCQyZ84cPo/n9zY4ePDgRRddRJKrCT+ZMmUKmLfLxst1Xdu2OZKSn5Szaq+55hqcJxAIYBXkJbC1tVVITcb7R1RKaXtBBtfu3bvlPCveklxyySXCn/anQ2eAgQtECslVpSCsuVwum83u3r37Rz/60Y033njhhRcyuQ8fPnzSpEn/9E//hNqNst2T9U3btovI3JnG6UIKxWPwThzeRV5fyxuPXBJ0eRY86f/93//98z//89SpU5uamliWRowYcfnllz/66KObNm1iCUTJSVBYj4Bi6zjOli1bcDZoysOGDdu+fbuQ1HMWTlar29ra4LGE1lwoFOQBZ5csvmfxg2DjuVjI0+k0zuD5vbbF8RLLodXdw+TYHCcHRgtJE0JuquNnyMuPc+TIkQ95AaVDKXOOMHzoVAnIqUbPPvssjqwM+2MZweqMZVksdlzTpot/qXvsDU8e2Vb4oRH0ZxqnM1thlLqTiJAsA5Wx7+SUDrh82VbAU7s7bNtmCi7+3tkafu211/Kmh4juvfdeIUQ6ne4irkAX0uTWSK7fLInjBdjGzbdtWRb6lggh5OxT4b/T7jmJnADFV5f3Yfyk8ut2/eZNrMhzmhWPpxw52g8oWbk49BxIpVI//elP2bCLKviO4zQ1NX3pS1/CAKGemcIpA3lr6EwC00o+n6+vr8f+lEswojom2jt4fm9fIuIO7tFoFEWrjx49WvZC/qcbgsGg67rke71kUykUTPl/B1B9yiJAcIsQAm2UMXnJX7nl6hfkVyXkIuPkt9vu7eS6rmcymbfffvt///d/YYXPZrORSAQZiLFYDAUAXL8gImTYMIzW1lbcled5MB6CanF1yL98n7quYwsVjUZRNRclr0OhEEwoRBSNRm3bhq2GOySn02kuD8BXly2ZcggfR7PggHw+D08vvuRSaJhxKGXKRS77GiXjdHQM+MMf/rBjxw5UnkS5VyGEYRiTJ09GWQZd16urqwdQv/nTDZ7fVR1ds+XeeKieygFVjuOEw2GMv+b3P8pms7lcDmWQXdeNx+O5XG7QoEG6rsP2Ut6nO60AhsLSyCoY/ksIgXQtIQTKSpf1TksD27bxsI7jhEIhcJDwi84jsEqORocjMRqNwuhXVVVVRDMQQkSj0eXLlxNRNptFl7tcLjdu3Dg422KxWCKRCIVCHAyDa51zzjmvv/664zjcBgCl2FlW0X6ai0ujawLXRic/MwON8bgXh/zKHMeJxWLxeBwlBRHS4/pV5nGraAiDnRn5FZaEEPgTZwPRoxI9Fg9c2nEctAER/dJ7+hQ5nUnZkerom6b5xBNPYK2rqqrC40Hfue+++8ivYW1ZVgn7lZxpkPP7qVvYojypoIDAtcXKFDQXktLB+F1gFvV2XXQywRLCccpyuwzXdTVNS6fTp0+t8I8IDhyCNqpJDZT5s+b3TK8AcGooJId9j/hfuQA9H89VYjAIReTH8RufEpHruj3W35a7AgghcHJY6nm0sZTK1+Lx7x6WI++u5KI0XZ6FD+PYni4SDh7DSeSr8Pd8A1y4kB2w5JsrSBrMPsVJTz/P79hC/iJG/mhu2LBh69ataE3ieV4kEoHFaurUqY2NjdRTH26FgQJQNiQVBTeg7BuGUV1dnUwmscxzx74y367CaYZAIADbILJV0FsD+nWPYFMhwm/AsMpseyLQTnY74DgON2bFioeJTUR33HHHwoULiQhrKRsZFy9efN111+EzH6wwsIAX53leNpsFs3d2dmJPdvjw4SFDhhARdtM9qmAKZzhgofI8L5PJwCKRyWRgG+zx+FwuBzE7cuQI/HPCb76oUBwnzenks7njONgcWZYVjUaPHDly8cUXHzp0SPN7H8NXUFtb+8Ybb3DnYqBQKCin3MCCZVm99eWSJxsM+rZty3tPBQUAlmUoB92NOUUAHb9LEyKFHtFrBnBxsLWLiODW+N3vfnfw4EF0Usf3GP3p06ejwj1Jthq13g44MKGjsBHsyHihmqZlMhkYDfGvInSFLoB7ky3Xwo8C7E23g1AVCoVEIsFma6d0PegrGCetp8vGE7iGEdkzZsyY3bt3M2t7nheLxSzL2rp166hRoxD0k8/nB1CneQUZiMllDxVDvVOFEwHix6GhFwqFk9K4OSKwL2+wcnDSPlLwOAcS4cUsW7bsz3/+M5YHDuq0LGvcuHGjR49ma4yu6ypaboDCNE05gAzeKs/zmNAR+4QoY6VPKXQBAhB1XUdZWvAGR7n0CCwDhUKBa3JVRh5AX+OkOR1mE8S04cWk0+nFixeHQiHsrVCHAY6yf/3Xf8Vrw79smSn+LhVOQ+DFcTAf5hj+RBw3hAGV3JVKpdAFnNwPIwyy/IuEvSIOnbtxQfyUE+5EcCo+UgUFBQWF0xMVkh6ioKCgoECK0xUUFBQqCYrTFRQUFCoHitMVFBQUKgeK0xUUFBQqB4rTFRQUFCoHitMVFBQUKgeK0xUUFBQqB4rTFRQUFCoHitMVFBQUKgeK0xUUFBQqB4rTFRQUFCoHitMVFBQUKgeK0xUUFBQqB4rTFRQUFCoHitMVFBQUKgeK0xUUFBQqB4rTFRQUFCoHitMVFBQUKgeK0xUUFBQqB4rTFRQUFCoH/w8kAugoJoZYnQAAAABJRU5ErkJggg==)"
      ],
      "metadata": {
        "id": "h-WaT0BzXUqa"
      }
    },
    {
      "cell_type": "code",
      "source": [
        "(7.032594 + 0.047537*50)*1000"
      ],
      "metadata": {
        "colab": {
          "base_uri": "https://localhost:8080/"
        },
        "id": "gpFOBMljWX4W",
        "outputId": "4a0d4ea2-89cf-4413-9a4c-10b04ccc507d"
      },
      "execution_count": 40,
      "outputs": [
        {
          "output_type": "execute_result",
          "data": {
            "text/plain": [
              "9409.444000000001"
            ]
          },
          "metadata": {},
          "execution_count": 40
        }
      ]
    },
    {
      "cell_type": "code",
      "source": [
        "X_new = pd.DataFrame({'TV': [50]})\n",
        "X_new.head()"
      ],
      "metadata": {
        "colab": {
          "base_uri": "https://localhost:8080/",
          "height": 81
        },
        "id": "_VMcF3cBZgsE",
        "outputId": "be8f9750-7218-4313-e290-d005a1c09ff3"
      },
      "execution_count": 41,
      "outputs": [
        {
          "output_type": "execute_result",
          "data": {
            "text/plain": [
              "   TV\n",
              "0  50"
            ],
            "text/html": [
              "\n",
              "  <div id=\"df-df0884bd-d4e8-4ed6-8ebd-86b2d13ecd6e\">\n",
              "    <div class=\"colab-df-container\">\n",
              "      <div>\n",
              "<style scoped>\n",
              "    .dataframe tbody tr th:only-of-type {\n",
              "        vertical-align: middle;\n",
              "    }\n",
              "\n",
              "    .dataframe tbody tr th {\n",
              "        vertical-align: top;\n",
              "    }\n",
              "\n",
              "    .dataframe thead th {\n",
              "        text-align: right;\n",
              "    }\n",
              "</style>\n",
              "<table border=\"1\" class=\"dataframe\">\n",
              "  <thead>\n",
              "    <tr style=\"text-align: right;\">\n",
              "      <th></th>\n",
              "      <th>TV</th>\n",
              "    </tr>\n",
              "  </thead>\n",
              "  <tbody>\n",
              "    <tr>\n",
              "      <th>0</th>\n",
              "      <td>50</td>\n",
              "    </tr>\n",
              "  </tbody>\n",
              "</table>\n",
              "</div>\n",
              "      <button class=\"colab-df-convert\" onclick=\"convertToInteractive('df-df0884bd-d4e8-4ed6-8ebd-86b2d13ecd6e')\"\n",
              "              title=\"Convert this dataframe to an interactive table.\"\n",
              "              style=\"display:none;\">\n",
              "        \n",
              "  <svg xmlns=\"http://www.w3.org/2000/svg\" height=\"24px\"viewBox=\"0 0 24 24\"\n",
              "       width=\"24px\">\n",
              "    <path d=\"M0 0h24v24H0V0z\" fill=\"none\"/>\n",
              "    <path d=\"M18.56 5.44l.94 2.06.94-2.06 2.06-.94-2.06-.94-.94-2.06-.94 2.06-2.06.94zm-11 1L8.5 8.5l.94-2.06 2.06-.94-2.06-.94L8.5 2.5l-.94 2.06-2.06.94zm10 10l.94 2.06.94-2.06 2.06-.94-2.06-.94-.94-2.06-.94 2.06-2.06.94z\"/><path d=\"M17.41 7.96l-1.37-1.37c-.4-.4-.92-.59-1.43-.59-.52 0-1.04.2-1.43.59L10.3 9.45l-7.72 7.72c-.78.78-.78 2.05 0 2.83L4 21.41c.39.39.9.59 1.41.59.51 0 1.02-.2 1.41-.59l7.78-7.78 2.81-2.81c.8-.78.8-2.07 0-2.86zM5.41 20L4 18.59l7.72-7.72 1.47 1.35L5.41 20z\"/>\n",
              "  </svg>\n",
              "      </button>\n",
              "      \n",
              "  <style>\n",
              "    .colab-df-container {\n",
              "      display:flex;\n",
              "      flex-wrap:wrap;\n",
              "      gap: 12px;\n",
              "    }\n",
              "\n",
              "    .colab-df-convert {\n",
              "      background-color: #E8F0FE;\n",
              "      border: none;\n",
              "      border-radius: 50%;\n",
              "      cursor: pointer;\n",
              "      display: none;\n",
              "      fill: #1967D2;\n",
              "      height: 32px;\n",
              "      padding: 0 0 0 0;\n",
              "      width: 32px;\n",
              "    }\n",
              "\n",
              "    .colab-df-convert:hover {\n",
              "      background-color: #E2EBFA;\n",
              "      box-shadow: 0px 1px 2px rgba(60, 64, 67, 0.3), 0px 1px 3px 1px rgba(60, 64, 67, 0.15);\n",
              "      fill: #174EA6;\n",
              "    }\n",
              "\n",
              "    [theme=dark] .colab-df-convert {\n",
              "      background-color: #3B4455;\n",
              "      fill: #D2E3FC;\n",
              "    }\n",
              "\n",
              "    [theme=dark] .colab-df-convert:hover {\n",
              "      background-color: #434B5C;\n",
              "      box-shadow: 0px 1px 3px 1px rgba(0, 0, 0, 0.15);\n",
              "      filter: drop-shadow(0px 1px 2px rgba(0, 0, 0, 0.3));\n",
              "      fill: #FFFFFF;\n",
              "    }\n",
              "  </style>\n",
              "\n",
              "      <script>\n",
              "        const buttonEl =\n",
              "          document.querySelector('#df-df0884bd-d4e8-4ed6-8ebd-86b2d13ecd6e button.colab-df-convert');\n",
              "        buttonEl.style.display =\n",
              "          google.colab.kernel.accessAllowed ? 'block' : 'none';\n",
              "\n",
              "        async function convertToInteractive(key) {\n",
              "          const element = document.querySelector('#df-df0884bd-d4e8-4ed6-8ebd-86b2d13ecd6e');\n",
              "          const dataTable =\n",
              "            await google.colab.kernel.invokeFunction('convertToInteractive',\n",
              "                                                     [key], {});\n",
              "          if (!dataTable) return;\n",
              "\n",
              "          const docLinkHtml = 'Like what you see? Visit the ' +\n",
              "            '<a target=\"_blank\" href=https://colab.research.google.com/notebooks/data_table.ipynb>data table notebook</a>'\n",
              "            + ' to learn more about interactive tables.';\n",
              "          element.innerHTML = '';\n",
              "          dataTable['output_type'] = 'display_data';\n",
              "          await google.colab.output.renderOutput(dataTable, element);\n",
              "          const docLink = document.createElement('div');\n",
              "          docLink.innerHTML = docLinkHtml;\n",
              "          element.appendChild(docLink);\n",
              "        }\n",
              "      </script>\n",
              "    </div>\n",
              "  </div>\n",
              "  "
            ]
          },
          "metadata": {},
          "execution_count": 41
        }
      ]
    },
    {
      "cell_type": "code",
      "source": [
        "ln.predict(X_new)*1000"
      ],
      "metadata": {
        "colab": {
          "base_uri": "https://localhost:8080/"
        },
        "id": "GfNwlGWxaIBJ",
        "outputId": "cd820ecf-d376-4f30-f529-d4a1ae221a4b"
      },
      "execution_count": 42,
      "outputs": [
        {
          "output_type": "execute_result",
          "data": {
            "text/plain": [
              "array([9409.42557078])"
            ]
          },
          "metadata": {},
          "execution_count": 42
        }
      ]
    },
    {
      "cell_type": "markdown",
      "source": [
        "# **Plotting Least Square Line**\n"
      ],
      "metadata": {
        "id": "ejY1zqvDkX-O"
      }
    },
    {
      "cell_type": "code",
      "source": [
        "x_new = pd.DataFrame({'TV': [data.TV.min(),data.TV.max()]})\n",
        "x_new.head()"
      ],
      "metadata": {
        "colab": {
          "base_uri": "https://localhost:8080/",
          "height": 112
        },
        "id": "oKwPmxNIker3",
        "outputId": "a5080412-4e0a-49bc-ba74-8fed1d1d1721"
      },
      "execution_count": 43,
      "outputs": [
        {
          "output_type": "execute_result",
          "data": {
            "text/plain": [
              "      TV\n",
              "0    0.7\n",
              "1  296.4"
            ],
            "text/html": [
              "\n",
              "  <div id=\"df-e939a901-bfb3-4bac-9886-edfaeb3d4df7\">\n",
              "    <div class=\"colab-df-container\">\n",
              "      <div>\n",
              "<style scoped>\n",
              "    .dataframe tbody tr th:only-of-type {\n",
              "        vertical-align: middle;\n",
              "    }\n",
              "\n",
              "    .dataframe tbody tr th {\n",
              "        vertical-align: top;\n",
              "    }\n",
              "\n",
              "    .dataframe thead th {\n",
              "        text-align: right;\n",
              "    }\n",
              "</style>\n",
              "<table border=\"1\" class=\"dataframe\">\n",
              "  <thead>\n",
              "    <tr style=\"text-align: right;\">\n",
              "      <th></th>\n",
              "      <th>TV</th>\n",
              "    </tr>\n",
              "  </thead>\n",
              "  <tbody>\n",
              "    <tr>\n",
              "      <th>0</th>\n",
              "      <td>0.7</td>\n",
              "    </tr>\n",
              "    <tr>\n",
              "      <th>1</th>\n",
              "      <td>296.4</td>\n",
              "    </tr>\n",
              "  </tbody>\n",
              "</table>\n",
              "</div>\n",
              "      <button class=\"colab-df-convert\" onclick=\"convertToInteractive('df-e939a901-bfb3-4bac-9886-edfaeb3d4df7')\"\n",
              "              title=\"Convert this dataframe to an interactive table.\"\n",
              "              style=\"display:none;\">\n",
              "        \n",
              "  <svg xmlns=\"http://www.w3.org/2000/svg\" height=\"24px\"viewBox=\"0 0 24 24\"\n",
              "       width=\"24px\">\n",
              "    <path d=\"M0 0h24v24H0V0z\" fill=\"none\"/>\n",
              "    <path d=\"M18.56 5.44l.94 2.06.94-2.06 2.06-.94-2.06-.94-.94-2.06-.94 2.06-2.06.94zm-11 1L8.5 8.5l.94-2.06 2.06-.94-2.06-.94L8.5 2.5l-.94 2.06-2.06.94zm10 10l.94 2.06.94-2.06 2.06-.94-2.06-.94-.94-2.06-.94 2.06-2.06.94z\"/><path d=\"M17.41 7.96l-1.37-1.37c-.4-.4-.92-.59-1.43-.59-.52 0-1.04.2-1.43.59L10.3 9.45l-7.72 7.72c-.78.78-.78 2.05 0 2.83L4 21.41c.39.39.9.59 1.41.59.51 0 1.02-.2 1.41-.59l7.78-7.78 2.81-2.81c.8-.78.8-2.07 0-2.86zM5.41 20L4 18.59l7.72-7.72 1.47 1.35L5.41 20z\"/>\n",
              "  </svg>\n",
              "      </button>\n",
              "      \n",
              "  <style>\n",
              "    .colab-df-container {\n",
              "      display:flex;\n",
              "      flex-wrap:wrap;\n",
              "      gap: 12px;\n",
              "    }\n",
              "\n",
              "    .colab-df-convert {\n",
              "      background-color: #E8F0FE;\n",
              "      border: none;\n",
              "      border-radius: 50%;\n",
              "      cursor: pointer;\n",
              "      display: none;\n",
              "      fill: #1967D2;\n",
              "      height: 32px;\n",
              "      padding: 0 0 0 0;\n",
              "      width: 32px;\n",
              "    }\n",
              "\n",
              "    .colab-df-convert:hover {\n",
              "      background-color: #E2EBFA;\n",
              "      box-shadow: 0px 1px 2px rgba(60, 64, 67, 0.3), 0px 1px 3px 1px rgba(60, 64, 67, 0.15);\n",
              "      fill: #174EA6;\n",
              "    }\n",
              "\n",
              "    [theme=dark] .colab-df-convert {\n",
              "      background-color: #3B4455;\n",
              "      fill: #D2E3FC;\n",
              "    }\n",
              "\n",
              "    [theme=dark] .colab-df-convert:hover {\n",
              "      background-color: #434B5C;\n",
              "      box-shadow: 0px 1px 3px 1px rgba(0, 0, 0, 0.15);\n",
              "      filter: drop-shadow(0px 1px 2px rgba(0, 0, 0, 0.3));\n",
              "      fill: #FFFFFF;\n",
              "    }\n",
              "  </style>\n",
              "\n",
              "      <script>\n",
              "        const buttonEl =\n",
              "          document.querySelector('#df-e939a901-bfb3-4bac-9886-edfaeb3d4df7 button.colab-df-convert');\n",
              "        buttonEl.style.display =\n",
              "          google.colab.kernel.accessAllowed ? 'block' : 'none';\n",
              "\n",
              "        async function convertToInteractive(key) {\n",
              "          const element = document.querySelector('#df-e939a901-bfb3-4bac-9886-edfaeb3d4df7');\n",
              "          const dataTable =\n",
              "            await google.colab.kernel.invokeFunction('convertToInteractive',\n",
              "                                                     [key], {});\n",
              "          if (!dataTable) return;\n",
              "\n",
              "          const docLinkHtml = 'Like what you see? Visit the ' +\n",
              "            '<a target=\"_blank\" href=https://colab.research.google.com/notebooks/data_table.ipynb>data table notebook</a>'\n",
              "            + ' to learn more about interactive tables.';\n",
              "          element.innerHTML = '';\n",
              "          dataTable['output_type'] = 'display_data';\n",
              "          await google.colab.output.renderOutput(dataTable, element);\n",
              "          const docLink = document.createElement('div');\n",
              "          docLink.innerHTML = docLinkHtml;\n",
              "          element.appendChild(docLink);\n",
              "        }\n",
              "      </script>\n",
              "    </div>\n",
              "  </div>\n",
              "  "
            ]
          },
          "metadata": {},
          "execution_count": 43
        }
      ]
    },
    {
      "cell_type": "code",
      "source": [
        "preds = ln.predict(X_new)\n",
        "preds"
      ],
      "metadata": {
        "colab": {
          "base_uri": "https://localhost:8080/"
        },
        "id": "RRVhbi05pD39",
        "outputId": "3419249f-6de3-49ed-bd1e-78a1ce5ded9a"
      },
      "execution_count": 44,
      "outputs": [
        {
          "output_type": "execute_result",
          "data": {
            "text/plain": [
              "array([9.40942557])"
            ]
          },
          "metadata": {},
          "execution_count": 44
        }
      ]
    }
  ]
}