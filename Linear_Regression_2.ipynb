{
  "nbformat": 4,
  "nbformat_minor": 0,
  "metadata": {
    "colab": {
      "name": "Linear Regression 2.ipynb",
      "provenance": [],
      "authorship_tag": "ABX9TyOZb80eOt43TCdcjdRqvK/P",
      "include_colab_link": true
    },
    "kernelspec": {
      "name": "python3",
      "display_name": "Python 3"
    },
    "language_info": {
      "name": "python"
    }
  },
  "cells": [
    {
      "cell_type": "markdown",
      "metadata": {
        "id": "view-in-github",
        "colab_type": "text"
      },
      "source": [
        "<a href=\"https://colab.research.google.com/github/Ayush-hm/Google-Colab-ML/blob/main/Linear_Regression_2.ipynb\" target=\"_parent\"><img src=\"https://colab.research.google.com/assets/colab-badge.svg\" alt=\"Open In Colab\"/></a>"
      ]
    },
    {
      "cell_type": "code",
      "execution_count": 5,
      "metadata": {
        "id": "0vpC7-gVKF6L"
      },
      "outputs": [],
      "source": [
        "import numpy as np \n",
        "from numpy import r_ , c_\n",
        "import matplotlib.pyplot as plt\n",
        "from matplotlib import style\n",
        "style.use('ggplot')"
      ]
    },
    {
      "cell_type": "code",
      "source": [
        "import unittest"
      ],
      "metadata": {
        "id": "2WjV8vxJLZot"
      },
      "execution_count": 6,
      "outputs": []
    },
    {
      "cell_type": "code",
      "source": [
        "d = np.array([[12,23,34],\n",
        "             [45,56,67],\n",
        "             [78,79,80]])"
      ],
      "metadata": {
        "id": "kP1hNRK9L8fs"
      },
      "execution_count": 8,
      "outputs": []
    },
    {
      "cell_type": "code",
      "source": [
        "d.shape"
      ],
      "metadata": {
        "colab": {
          "base_uri": "https://localhost:8080/"
        },
        "id": "SumGbncwMZqh",
        "outputId": "951300ed-079e-4c97-a527-2a7390ca0d79"
      },
      "execution_count": 10,
      "outputs": [
        {
          "output_type": "execute_result",
          "data": {
            "text/plain": [
              "(3, 3)"
            ]
          },
          "metadata": {},
          "execution_count": 10
        }
      ]
    },
    {
      "cell_type": "code",
      "source": [
        "d.reshape(-1)"
      ],
      "metadata": {
        "colab": {
          "base_uri": "https://localhost:8080/"
        },
        "id": "qDu6jUVXMcJj",
        "outputId": "b009a210-eee2-41b4-a70c-a75f17f67272"
      },
      "execution_count": 11,
      "outputs": [
        {
          "output_type": "execute_result",
          "data": {
            "text/plain": [
              "array([12, 23, 34, 45, 56, 67, 78, 79, 80])"
            ]
          },
          "metadata": {},
          "execution_count": 11
        }
      ]
    },
    {
      "cell_type": "code",
      "source": [
        "d.reshape(-1,1)"
      ],
      "metadata": {
        "colab": {
          "base_uri": "https://localhost:8080/"
        },
        "id": "-jLESC4eMlLD",
        "outputId": "a1d3f1d4-cb54-49c2-bb29-5fc2229fc5ad"
      },
      "execution_count": 13,
      "outputs": [
        {
          "output_type": "execute_result",
          "data": {
            "text/plain": [
              "array([[12],\n",
              "       [23],\n",
              "       [34],\n",
              "       [45],\n",
              "       [56],\n",
              "       [67],\n",
              "       [78],\n",
              "       [79],\n",
              "       [80]])"
            ]
          },
          "metadata": {},
          "execution_count": 13
        }
      ]
    },
    {
      "cell_type": "code",
      "source": [
        "d.ravel()"
      ],
      "metadata": {
        "colab": {
          "base_uri": "https://localhost:8080/"
        },
        "id": "rYRn5wI-Mt7e",
        "outputId": "97df9de8-4588-4eed-8e65-84d70e1d49f4"
      },
      "execution_count": 14,
      "outputs": [
        {
          "output_type": "execute_result",
          "data": {
            "text/plain": [
              "array([12, 23, 34, 45, 56, 67, 78, 79, 80])"
            ]
          },
          "metadata": {},
          "execution_count": 14
        }
      ]
    },
    {
      "cell_type": "code",
      "source": [
        "x=np.array([np.random.rand()*4 for i in range(500)]).reshape(-1,1)\n",
        "y=np.array([np.cos(i) for i in x]).reshape(-1,1)"
      ],
      "metadata": {
        "id": "Sbos6-JIMxNr"
      },
      "execution_count": 17,
      "outputs": []
    },
    {
      "cell_type": "code",
      "source": [
        "plt.scatter(x,y)\n",
        "plt.title('Dataset')\n",
        "plt.xlabel('x')\n",
        "plt.ylabel('y')\n",
        "plt.show()"
      ],
      "metadata": {
        "colab": {
          "base_uri": "https://localhost:8080/",
          "height": 299
        },
        "id": "BbnDwdB4NJEm",
        "outputId": "13e10028-4ff3-43c5-c834-2b6f05cdbcb5"
      },
      "execution_count": 18,
      "outputs": [
        {
          "output_type": "display_data",
          "data": {
            "text/plain": [
              "<Figure size 432x288 with 1 Axes>"
            ],
            "image/png": "[encoded data removed]"
          },
          "metadata": {}
        }
      ]
    },
    {
      "cell_type": "markdown",
      "source": [
        "# **Defining the Hypothesis**"
      ],
      "metadata": {
        "id": "0MQZWI_QY02x"
      }
    },
    {
      "cell_type": "code",
      "source": [
        "def init_weights(features):\n",
        "  return np.random.rand(features.shape[1],1)"
      ],
      "metadata": {
        "id": "2fCy1CV6Y5mk"
      },
      "execution_count": 19,
      "outputs": []
    },
    {
      "cell_type": "code",
      "source": [
        "def compute_hypothesis(features,weights):\n",
        "  return np.dot(features,weights)\n",
        "  "
      ],
      "metadata": {
        "id": "WlD3ThDgZKFr"
      },
      "execution_count": 20,
      "outputs": []
    },
    {
      "cell_type": "markdown",
      "source": [
        "# **Cost Function**"
      ],
      "metadata": {
        "id": "PKseuYPviTg6"
      }
    },
    {
      "cell_type": "code",
      "source": [
        "def cost_func(hypothesis,labels,derivative=False):\n",
        "  m=labels.shape[0]\n",
        "  E_w = (1/(2*m))*np.sum((hypothesis-labels)**2)\n",
        "  if derivative:\n",
        "    deriv=(1/m)*np.sum(np.dot((hypothesis-labels).T,x))\n",
        "    return E_w, deriv\n",
        "  else:\n",
        "    return E_w\n"
      ],
      "metadata": {
        "id": "r0cKiEFSZegX"
      },
      "execution_count": 24,
      "outputs": []
    },
    {
      "cell_type": "markdown",
      "source": [
        "# **Learning Algorithm**"
      ],
      "metadata": {
        "id": "P7ZCc-K8ibyT"
      }
    },
    {
      "cell_type": "code",
      "source": [
        "epochs = 80\n",
        "learning_rate = 0.01\n"
      ],
      "metadata": {
        "id": "R3v8lkyniFi-"
      },
      "execution_count": 25,
      "outputs": []
    },
    {
      "cell_type": "code",
      "source": [
        "cost_history=[]\n",
        "weights = init_weights(x)\n",
        "print('weights initialized: {}'.format(weights))\n",
        "\n",
        "for e in range(epochs):\n",
        "  print('\\nIteration Number: {}'.format(e))\n",
        "  hypothesis = compute_hypothesis(x,weights)\n",
        "  cost, deriv=cost_func(hypothesis,y,derivative=True)\n",
        "  cost_history.append(cost)\n",
        "  print('Cost funcion: {}'.format(cost))\n",
        "\n",
        "  weights= weights-learning_rate*deriv\n",
        "    "
      ],
      "metadata": {
        "colab": {
          "base_uri": "https://localhost:8080/"
        },
        "id": "p-BvhweSjESx",
        "outputId": "7a45076e-2c54-42e9-82e4-151c2db8a91d"
      },
      "execution_count": 26,
      "outputs": [
        {
          "output_type": "stream",
          "name": "stdout",
          "text": [
            "weights initialized: [[0.49694841]]\n",
            "\n",
            "Iteration Number: 0\n",
            "Cost funcion: 1.44793100484647\n",
            "\n",
            "Iteration Number: 1\n",
            "Cost funcion: 1.3198501625318784\n",
            "\n",
            "Iteration Number: 2\n",
            "Cost funcion: 1.2045014619161722\n",
            "\n",
            "Iteration Number: 3\n",
            "Cost funcion: 1.1006192380543751\n",
            "\n",
            "Iteration Number: 4\n",
            "Cost funcion: 1.0070636420496548\n",
            "\n",
            "Iteration Number: 5\n",
            "Cost funcion: 0.9228081340481817\n",
            "\n",
            "Iteration Number: 6\n",
            "Cost funcion: 0.8469282195187705\n",
            "\n",
            "Iteration Number: 7\n",
            "Cost funcion: 0.7785913052259973\n",
            "\n",
            "Iteration Number: 8\n",
            "Cost funcion: 0.7170475635913415\n",
            "\n",
            "Iteration Number: 9\n",
            "Cost funcion: 0.661621705201452\n",
            "\n",
            "Iteration Number: 10\n",
            "Cost funcion: 0.6117055691872875\n",
            "\n",
            "Iteration Number: 11\n",
            "Cost funcion: 0.5667514501719818\n",
            "\n",
            "Iteration Number: 12\n",
            "Cost funcion: 0.5262660885672931\n",
            "\n",
            "Iteration Number: 13\n",
            "Cost funcion: 0.4898052582770958\n",
            "\n",
            "Iteration Number: 14\n",
            "Cost funcion: 0.45696889242142774\n",
            "\n",
            "Iteration Number: 15\n",
            "Cost funcion: 0.4273966935980462\n",
            "\n",
            "Iteration Number: 16\n",
            "Cost funcion: 0.40076418051503554\n",
            "\n",
            "Iteration Number: 17\n",
            "Cost funcion: 0.376779127616097\n",
            "\n",
            "Iteration Number: 18\n",
            "Cost funcion: 0.35517835863226943\n",
            "\n",
            "Iteration Number: 19\n",
            "Cost funcion: 0.33572485887728915\n",
            "\n",
            "Iteration Number: 20\n",
            "Cost funcion: 0.31820517460121767\n",
            "\n",
            "Iteration Number: 21\n",
            "Cost funcion: 0.3024270708667136\n",
            "\n",
            "Iteration Number: 22\n",
            "Cost funcion: 0.28821742224897096\n",
            "\n",
            "Iteration Number: 23\n",
            "Cost funcion: 0.27542031321500204\n",
            "\n",
            "Iteration Number: 24\n",
            "Cost funcion: 0.2638953273386587\n",
            "\n",
            "Iteration Number: 25\n",
            "Cost funcion: 0.2535160065797795\n",
            "\n",
            "Iteration Number: 26\n",
            "Cost funcion: 0.24416846372188905\n",
            "\n",
            "Iteration Number: 27\n",
            "Cost funcion: 0.23575013274340476\n",
            "\n",
            "Iteration Number: 28\n",
            "Cost funcion: 0.22816864341078436\n",
            "\n",
            "Iteration Number: 29\n",
            "Cost funcion: 0.22134080774507542\n",
            "\n",
            "Iteration Number: 30\n",
            "Cost funcion: 0.21519170724085918\n",
            "\n",
            "Iteration Number: 31\n",
            "Cost funcion: 0.20965387082208722\n",
            "\n",
            "Iteration Number: 32\n",
            "Cost funcion: 0.2046665345149234\n",
            "\n",
            "Iteration Number: 33\n",
            "Cost funcion: 0.20017497471434162\n",
            "\n",
            "Iteration Number: 34\n",
            "Cost funcion: 0.1961299077287395\n",
            "\n",
            "Iteration Number: 35\n",
            "Cost funcion: 0.19248694901406582\n",
            "\n",
            "Iteration Number: 36\n",
            "Cost funcion: 0.18920612616389937\n",
            "\n",
            "Iteration Number: 37\n",
            "Cost funcion: 0.18625144031176\n",
            "\n",
            "Iteration Number: 38\n",
            "Cost funcion: 0.18359047113313162\n",
            "\n",
            "Iteration Number: 39\n",
            "Cost funcion: 0.18119402111307847\n",
            "\n",
            "Iteration Number: 40\n",
            "Cost funcion: 0.1790357951761764\n",
            "\n",
            "Iteration Number: 41\n",
            "Cost funcion: 0.1770921121634952\n",
            "\n",
            "Iteration Number: 42\n",
            "Cost funcion: 0.17534164499080973\n",
            "\n",
            "Iteration Number: 43\n",
            "Cost funcion: 0.17376518663692275\n",
            "\n",
            "Iteration Number: 44\n",
            "Cost funcion: 0.17234543939440386\n",
            "\n",
            "Iteration Number: 45\n",
            "Cost funcion: 0.17106682507029558\n",
            "\n",
            "Iteration Number: 46\n",
            "Cost funcion: 0.16991531405421198\n",
            "\n",
            "Iteration Number: 47\n",
            "Cost funcion: 0.16887827137827713\n",
            "\n",
            "Iteration Number: 48\n",
            "Cost funcion: 0.1679443180797947\n",
            "\n",
            "Iteration Number: 49\n",
            "Cost funcion: 0.1671032063454489\n",
            "\n",
            "Iteration Number: 50\n",
            "Cost funcion: 0.16634570706705476\n",
            "\n",
            "Iteration Number: 51\n",
            "Cost funcion: 0.16566350857506262\n",
            "\n",
            "Iteration Number: 52\n",
            "Cost funcion: 0.16504912543866812\n",
            "\n",
            "Iteration Number: 53\n",
            "Cost funcion: 0.16449581633183663\n",
            "\n",
            "Iteration Number: 54\n",
            "Cost funcion: 0.16399751006402585\n",
            "\n",
            "Iteration Number: 55\n",
            "Cost funcion: 0.1635487389639775\n",
            "\n",
            "Iteration Number: 56\n",
            "Cost funcion: 0.16314457888563175\n",
            "\n",
            "Iteration Number: 57\n",
            "Cost funcion: 0.1627805951778777\n",
            "\n",
            "Iteration Number: 58\n",
            "Cost funcion: 0.1624527940252932\n",
            "\n",
            "Iteration Number: 59\n",
            "Cost funcion: 0.1621575786259591\n",
            "\n",
            "Iteration Number: 60\n",
            "Cost funcion: 0.16189170972550873\n",
            "\n",
            "Iteration Number: 61\n",
            "Cost funcion: 0.1616522700743722\n",
            "\n",
            "Iteration Number: 62\n",
            "Cost funcion: 0.1614366324182219\n",
            "\n",
            "Iteration Number: 63\n",
            "Cost funcion: 0.16124243067039407\n",
            "\n",
            "Iteration Number: 64\n",
            "Cost funcion: 0.16106753394997572\n",
            "\n",
            "Iteration Number: 65\n",
            "Cost funcion: 0.16091002320068934\n",
            "\n",
            "Iteration Number: 66\n",
            "Cost funcion: 0.16076817013402564\n",
            "\n",
            "Iteration Number: 67\n",
            "Cost funcion: 0.16064041826557826\n",
            "\n",
            "Iteration Number: 68\n",
            "Cost funcion: 0.16052536583650034\n",
            "\n",
            "Iteration Number: 69\n",
            "Cost funcion: 0.16042175043268986\n",
            "\n",
            "Iteration Number: 70\n",
            "Cost funcion: 0.16032843513293596\n",
            "\n",
            "Iteration Number: 71\n",
            "Cost funcion: 0.16024439603403828\n",
            "\n",
            "Iteration Number: 72\n",
            "Cost funcion: 0.160168711016017\n",
            "\n",
            "Iteration Number: 73\n",
            "Cost funcion: 0.16010054962414086\n",
            "\n",
            "Iteration Number: 74\n",
            "Cost funcion: 0.16003916395675302\n",
            "\n",
            "Iteration Number: 75\n",
            "Cost funcion: 0.15998388045891176\n",
            "\n",
            "Iteration Number: 76\n",
            "Cost funcion: 0.1599340925318007\n",
            "\n",
            "Iteration Number: 77\n",
            "Cost funcion: 0.1598892538768166\n",
            "\n",
            "Iteration Number: 78\n",
            "Cost funcion: 0.1598488725013017\n",
            "\n",
            "Iteration Number: 79\n",
            "Cost funcion: 0.15981250532014843\n"
          ]
        }
      ]
    },
    {
      "cell_type": "markdown",
      "source": [
        "# **Visualization of Cost Function**"
      ],
      "metadata": {
        "id": "lqQ-gNGSmDHn"
      }
    },
    {
      "cell_type": "code",
      "source": [
        "plt.scatter([i for i in range(epochs)],cost_history)\n",
        "plt.title('Cost function vs Epochs')\n",
        "plt.xlabel('Epochs')\n",
        "plt.ylabel('Cost function')\n",
        "plt.show"
      ],
      "metadata": {
        "colab": {
          "base_uri": "https://localhost:8080/",
          "height": 316
        },
        "id": "gsxbAFl_mCR1",
        "outputId": "f21c660e-a155-47e4-cf03-86bee48faf5b"
      },
      "execution_count": 27,
      "outputs": [
        {
          "output_type": "execute_result",
          "data": {
            "text/plain": [
              "<function matplotlib.pyplot.show>"
            ]
          },
          "metadata": {},
          "execution_count": 27
        },
        {
          "output_type": "display_data",
          "data": {
            "text/plain": [
              "<Figure size 432x288 with 1 Axes>"
            ],
            "image/png": "[encoded data removed]"
          },
          "metadata": {}
        }
      ]
    },
    {
      "cell_type": "markdown",
      "source": [
        "# **Visualization of Result**"
      ],
      "metadata": {
        "id": "jHs14_7CmmuE"
      }
    },
    {
      "cell_type": "code",
      "source": [
        "plt.scatter(x,y,label='ground truth area', marker='*')\n",
        "plt.scatter(x,[each*weights for each in x], label='learning algorithm', marker='^')\n",
        "plt.title('Comparision')\n",
        "plt.xlabel('x')\n",
        "plt.ylabel('y/hypothesis')\n",
        "plt.legend()\n",
        "plt.show()"
      ],
      "metadata": {
        "colab": {
          "base_uri": "https://localhost:8080/",
          "height": 299
        },
        "id": "UTkKIo-BmmWK",
        "outputId": "6b81735d-ce78-4fef-d785-98c34416e21d"
      },
      "execution_count": 28,
      "outputs": [
        {
          "output_type": "display_data",
          "data": {
            "text/plain": [
              "<Figure size 432x288 with 1 Axes>"
            ],
            "image/png": "[encoded data removed]"
          },
          "metadata": {}
        }
      ]
    }
  ]
}