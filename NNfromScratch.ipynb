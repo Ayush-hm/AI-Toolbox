{
  "nbformat": 4,
  "nbformat_minor": 0,
  "metadata": {
    "colab": {
      "provenance": [],
      "authorship_tag": "ABX9TyObgPTMgN/R//vwuQ3hxAcK",
      "include_colab_link": true
    },
    "kernelspec": {
      "name": "python3",
      "display_name": "Python 3"
    },
    "language_info": {
      "name": "python"
    }
  },
  "cells": [
    {
      "cell_type": "markdown",
      "metadata": {
        "id": "view-in-github",
        "colab_type": "text"
      },
      "source": [
        "<a href=\"https://colab.research.google.com/github/Ayush-hm/Machine-Learning/blob/main/NNfromScratch.ipynb\" target=\"_parent\"><img src=\"https://colab.research.google.com/assets/colab-badge.svg\" alt=\"Open In Colab\"/></a>"
      ]
    },
    {
      "cell_type": "code",
      "execution_count": 1,
      "metadata": {
        "colab": {
          "base_uri": "https://localhost:8080/"
        },
        "id": "Orjj4aOVY1us",
        "outputId": "b889174a-0b59-48fb-b7fa-bf1ba54f682b"
      },
      "outputs": [
        {
          "output_type": "stream",
          "name": "stdout",
          "text": [
            "Downloading data from https://storage.googleapis.com/tensorflow/tf-keras-datasets/mnist.npz\n",
            "11490434/11490434 [==============================] - 0s 0us/step\n"
          ]
        }
      ],
      "source": [
        "# prompt: code for getting mnist dataset\n",
        "\n",
        "from keras.datasets import mnist\n",
        "(train_X, train_y), (test_X, test_y) = mnist.load_data()\n"
      ]
    },
    {
      "cell_type": "code",
      "source": [
        "train_X"
      ],
      "metadata": {
        "colab": {
          "base_uri": "https://localhost:8080/"
        },
        "id": "Bc1jOkKgbqZ7",
        "outputId": "fa6730ba-7fac-489a-b67d-5677e680e571"
      },
      "execution_count": 4,
      "outputs": [
        {
          "output_type": "execute_result",
          "data": {
            "text/plain": [
              "array([[[0, 0, 0, ..., 0, 0, 0],\n",
              "        [0, 0, 0, ..., 0, 0, 0],\n",
              "        [0, 0, 0, ..., 0, 0, 0],\n",
              "        ...,\n",
              "        [0, 0, 0, ..., 0, 0, 0],\n",
              "        [0, 0, 0, ..., 0, 0, 0],\n",
              "        [0, 0, 0, ..., 0, 0, 0]],\n",
              "\n",
              "       [[0, 0, 0, ..., 0, 0, 0],\n",
              "        [0, 0, 0, ..., 0, 0, 0],\n",
              "        [0, 0, 0, ..., 0, 0, 0],\n",
              "        ...,\n",
              "        [0, 0, 0, ..., 0, 0, 0],\n",
              "        [0, 0, 0, ..., 0, 0, 0],\n",
              "        [0, 0, 0, ..., 0, 0, 0]],\n",
              "\n",
              "       [[0, 0, 0, ..., 0, 0, 0],\n",
              "        [0, 0, 0, ..., 0, 0, 0],\n",
              "        [0, 0, 0, ..., 0, 0, 0],\n",
              "        ...,\n",
              "        [0, 0, 0, ..., 0, 0, 0],\n",
              "        [0, 0, 0, ..., 0, 0, 0],\n",
              "        [0, 0, 0, ..., 0, 0, 0]],\n",
              "\n",
              "       ...,\n",
              "\n",
              "       [[0, 0, 0, ..., 0, 0, 0],\n",
              "        [0, 0, 0, ..., 0, 0, 0],\n",
              "        [0, 0, 0, ..., 0, 0, 0],\n",
              "        ...,\n",
              "        [0, 0, 0, ..., 0, 0, 0],\n",
              "        [0, 0, 0, ..., 0, 0, 0],\n",
              "        [0, 0, 0, ..., 0, 0, 0]],\n",
              "\n",
              "       [[0, 0, 0, ..., 0, 0, 0],\n",
              "        [0, 0, 0, ..., 0, 0, 0],\n",
              "        [0, 0, 0, ..., 0, 0, 0],\n",
              "        ...,\n",
              "        [0, 0, 0, ..., 0, 0, 0],\n",
              "        [0, 0, 0, ..., 0, 0, 0],\n",
              "        [0, 0, 0, ..., 0, 0, 0]],\n",
              "\n",
              "       [[0, 0, 0, ..., 0, 0, 0],\n",
              "        [0, 0, 0, ..., 0, 0, 0],\n",
              "        [0, 0, 0, ..., 0, 0, 0],\n",
              "        ...,\n",
              "        [0, 0, 0, ..., 0, 0, 0],\n",
              "        [0, 0, 0, ..., 0, 0, 0],\n",
              "        [0, 0, 0, ..., 0, 0, 0]]], dtype=uint8)"
            ]
          },
          "metadata": {},
          "execution_count": 4
        }
      ]
    },
    {
      "cell_type": "code",
      "source": [
        "train_X.shape"
      ],
      "metadata": {
        "colab": {
          "base_uri": "https://localhost:8080/"
        },
        "id": "SAj9mleIcNCe",
        "outputId": "de0fd65c-351d-4821-be09-37217c903cf3"
      },
      "execution_count": 9,
      "outputs": [
        {
          "output_type": "execute_result",
          "data": {
            "text/plain": [
              "(60000, 28, 28)"
            ]
          },
          "metadata": {},
          "execution_count": 9
        }
      ]
    },
    {
      "cell_type": "code",
      "source": [
        "train_y.shape"
      ],
      "metadata": {
        "colab": {
          "base_uri": "https://localhost:8080/"
        },
        "id": "xd1OIYBTdoyE",
        "outputId": "ec45dac0-57c1-4f5c-9051-ba49966b52bd"
      },
      "execution_count": 11,
      "outputs": [
        {
          "output_type": "execute_result",
          "data": {
            "text/plain": [
              "(60000,)"
            ]
          },
          "metadata": {},
          "execution_count": 11
        }
      ]
    },
    {
      "cell_type": "code",
      "source": [
        "test_X.shape"
      ],
      "metadata": {
        "colab": {
          "base_uri": "https://localhost:8080/"
        },
        "id": "ssKQz6OGds_t",
        "outputId": "6dfc5c74-795b-47d2-8911-cb9814678614"
      },
      "execution_count": 12,
      "outputs": [
        {
          "output_type": "execute_result",
          "data": {
            "text/plain": [
              "(10000, 28, 28)"
            ]
          },
          "metadata": {},
          "execution_count": 12
        }
      ]
    },
    {
      "cell_type": "code",
      "source": [
        "test_y.shape"
      ],
      "metadata": {
        "colab": {
          "base_uri": "https://localhost:8080/"
        },
        "id": "DxC6SmEddvuy",
        "outputId": "04a28706-f7ea-4646-dfb2-a16721fbdcb2"
      },
      "execution_count": 13,
      "outputs": [
        {
          "output_type": "execute_result",
          "data": {
            "text/plain": [
              "(10000,)"
            ]
          },
          "metadata": {},
          "execution_count": 13
        }
      ]
    },
    {
      "cell_type": "code",
      "source": [
        "import numpy as np"
      ],
      "metadata": {
        "id": "TSYUJf0Tge9R"
      },
      "execution_count": 14,
      "outputs": []
    },
    {
      "cell_type": "code",
      "source": [
        "def initparams():\n",
        "  W1=np.random.rand(10,784) - 0.5\n",
        "  b1=np.random.rand(10,1) - 0.5\n",
        "  # why are we subtracting 0.5?\n",
        "  W2=np.random.rand(10,10) - 0.5\n",
        "  b2=np.random.rand(10,1) - 0.5\n",
        "  return W1, b1, W2, b2"
      ],
      "metadata": {
        "id": "JeiHY4I2dyjH"
      },
      "execution_count": 26,
      "outputs": []
    },
    {
      "cell_type": "code",
      "source": [
        "def ReLU(z):\n",
        "  return np.maximum(0,z)"
      ],
      "metadata": {
        "id": "BZmfs4Bfhu0J"
      },
      "execution_count": 27,
      "outputs": []
    },
    {
      "cell_type": "code",
      "source": [
        "def softmax(z):\n",
        "  return np.exp(z)/np.sum(np.exp(z), axis=0)"
      ],
      "metadata": {
        "id": "7bDYHSCIiEUu"
      },
      "execution_count": 28,
      "outputs": []
    },
    {
      "cell_type": "code",
      "source": [
        "def forwprop(W1,W2,b1,b2,X):\n",
        "  X=X.reshape(X.shape[0],-1).T\n",
        "  Z1 = W1.dot(X) + b1\n",
        "  A1 = ReLU(Z1)\n",
        "  Z2 = W2.dot(A1) + b2\n",
        "  A2=softmax(A1)\n",
        "  return Z1, A1, Z2, A2"
      ],
      "metadata": {
        "id": "wKC7YgSxg6GV"
      },
      "execution_count": 42,
      "outputs": []
    },
    {
      "cell_type": "code",
      "source": [
        "def onehot(y):\n",
        "  one_hot_y = np.zeros((y.size,y.max()+1))\n",
        "  one_hot_y[np.arange(y.size),y] = 1\n",
        "  one_hot_y = one_hot_y.T\n",
        "  return one_hot_y"
      ],
      "metadata": {
        "id": "pB1TQcQ4iXQ5"
      },
      "execution_count": 30,
      "outputs": []
    },
    {
      "cell_type": "code",
      "source": [
        "def deriv_ReLU(x):\n",
        "  x[x<=0] = 0\n",
        "  x[x>0] = 1\n",
        "  return x"
      ],
      "metadata": {
        "id": "LunQC1A6jQfe"
      },
      "execution_count": 31,
      "outputs": []
    },
    {
      "cell_type": "code",
      "source": [
        "def backprop(Z1, A1, Z2, A2, W1, W2, X, Y):\n",
        "    m=Y.size\n",
        "    one_hot_Y = onehot(Y)\n",
        "    dZ2 = A2 - one_hot_Y\n",
        "    dW2 = 1 / m * dZ2.dot(A1.T)\n",
        "    db2 = 1 / m * np.sum(dZ2)\n",
        "    dZ1 = W2.T.dot(dZ2) * deriv_ReLU(Z1)\n",
        "    X_reshaped= X.reshape(X.shape[0],-1).T\n",
        "    dW1 = 1 / m * dZ1.dot(X_reshaped.T)\n",
        "    db1 = 1 / m * np.sum(dZ1)\n",
        "    return dW1, db1, dW2, db2"
      ],
      "metadata": {
        "id": "Sr4g4X5lio06"
      },
      "execution_count": 55,
      "outputs": []
    },
    {
      "cell_type": "code",
      "source": [
        "def update_params(W1,b1,W2,b2,dW1,dW2,db1,db2,alpha):\n",
        "  W1=W1-alpha*dW1\n",
        "  b1=b1-alpha*db1\n",
        "  W2=W2-alpha*dW2\n",
        "  b2=b2-alpha*db2\n",
        "  return W1,b1,W2,b2"
      ],
      "metadata": {
        "id": "NNTs3eIRjhXR"
      },
      "execution_count": 33,
      "outputs": []
    },
    {
      "cell_type": "code",
      "source": [
        "def get_predictions(A2):\n",
        "  return np.argmax(A2,0)"
      ],
      "metadata": {
        "id": "3zkTol_tmgr9"
      },
      "execution_count": 34,
      "outputs": []
    },
    {
      "cell_type": "code",
      "source": [
        "def get_accuracy(preds, Y):\n",
        "  print(preds, Y)\n",
        "  return np.sum(preds==Y)/Y.size"
      ],
      "metadata": {
        "id": "t0OY7pYimmM3"
      },
      "execution_count": 35,
      "outputs": []
    },
    {
      "cell_type": "code",
      "source": [
        "def gradient_descent(X,Y,alpha,iters):\n",
        "  W1,b1,W2,b2 = initparams()\n",
        "  for i in range(iters):\n",
        "    Z1,A1,Z2,A2 = forwprop(W1,W2,b1,b2,X)\n",
        "    dW1,db1,dW2,db2 = backprop(Z1,A1,Z2,A2,W1,W2,X,Y)\n",
        "    W1,b1,W2,b2 = update_params(W1,b1,W2,b2,dW1,dW2,db1,db2,alpha)\n",
        "    if (i%10 == 0):\n",
        "      print(\"Iteration: \", i)\n",
        "      print(\"Accuracy: \", get_accuracy(get_predictions(A2),Y))\n",
        "  return W1,b1,W2,b2"
      ],
      "metadata": {
        "id": "i08utdTUj6CP"
      },
      "execution_count": 53,
      "outputs": []
    },
    {
      "cell_type": "code",
      "source": [
        "W1, b1, W2, b2 = gradient_descent(train_X,train_y,0.1,500)"
      ],
      "metadata": {
        "colab": {
          "base_uri": "https://localhost:8080/"
        },
        "id": "BqMdHF9DmSzj",
        "outputId": "cabc6cfd-db7b-4b5e-e9fe-3c929039e4dc"
      },
      "execution_count": 56,
      "outputs": [
        {
          "metadata": {
            "tags": null
          },
          "name": "stderr",
          "output_type": "stream",
          "text": [
            "<ipython-input-28-620d91fac4e3>:2: RuntimeWarning: overflow encountered in exp\n",
            "  return np.exp(z)/np.sum(np.exp(z), axis=0)\n",
            "/usr/local/lib/python3.10/dist-packages/numpy/core/fromnumeric.py:88: RuntimeWarning: overflow encountered in reduce\n",
            "  return ufunc.reduce(obj, axis, dtype, out, **passkwargs)\n",
            "<ipython-input-28-620d91fac4e3>:2: RuntimeWarning: invalid value encountered in divide\n",
            "  return np.exp(z)/np.sum(np.exp(z), axis=0)\n"
          ]
        },
        {
          "output_type": "stream",
          "name": "stdout",
          "text": [
            "Iteration:  0\n",
            "[5 1 2 ... 1 2 1] [5 0 4 ... 5 6 8]\n",
            "Accuracy:  0.06371666666666667\n",
            "Iteration:  10\n",
            "[0 0 0 ... 0 0 0] [5 0 4 ... 5 6 8]\n",
            "Accuracy:  0.09871666666666666\n",
            "Iteration:  20\n",
            "[0 0 0 ... 0 0 0] [5 0 4 ... 5 6 8]\n",
            "Accuracy:  0.09871666666666666\n",
            "Iteration:  30\n",
            "[0 0 0 ... 0 0 0] [5 0 4 ... 5 6 8]\n",
            "Accuracy:  0.09871666666666666\n",
            "Iteration:  40\n",
            "[0 0 0 ... 0 0 0] [5 0 4 ... 5 6 8]\n",
            "Accuracy:  0.09871666666666666\n",
            "Iteration:  50\n",
            "[0 0 0 ... 0 0 0] [5 0 4 ... 5 6 8]\n",
            "Accuracy:  0.09871666666666666\n",
            "Iteration:  60\n",
            "[0 0 0 ... 0 0 0] [5 0 4 ... 5 6 8]\n",
            "Accuracy:  0.09871666666666666\n",
            "Iteration:  70\n",
            "[0 0 0 ... 0 0 0] [5 0 4 ... 5 6 8]\n",
            "Accuracy:  0.09871666666666666\n",
            "Iteration:  80\n",
            "[0 0 0 ... 0 0 0] [5 0 4 ... 5 6 8]\n",
            "Accuracy:  0.09871666666666666\n",
            "Iteration:  90\n",
            "[0 0 0 ... 0 0 0] [5 0 4 ... 5 6 8]\n",
            "Accuracy:  0.09871666666666666\n",
            "Iteration:  100\n",
            "[0 0 0 ... 0 0 0] [5 0 4 ... 5 6 8]\n",
            "Accuracy:  0.09871666666666666\n",
            "Iteration:  110\n",
            "[0 0 0 ... 0 0 0] [5 0 4 ... 5 6 8]\n",
            "Accuracy:  0.09871666666666666\n",
            "Iteration:  120\n",
            "[0 0 0 ... 0 0 0] [5 0 4 ... 5 6 8]\n",
            "Accuracy:  0.09871666666666666\n",
            "Iteration:  130\n",
            "[0 0 0 ... 0 0 0] [5 0 4 ... 5 6 8]\n",
            "Accuracy:  0.09871666666666666\n",
            "Iteration:  140\n",
            "[0 0 0 ... 0 0 0] [5 0 4 ... 5 6 8]\n",
            "Accuracy:  0.09871666666666666\n",
            "Iteration:  150\n",
            "[0 0 0 ... 0 0 0] [5 0 4 ... 5 6 8]\n",
            "Accuracy:  0.09871666666666666\n",
            "Iteration:  160\n",
            "[0 0 0 ... 0 0 0] [5 0 4 ... 5 6 8]\n",
            "Accuracy:  0.09871666666666666\n",
            "Iteration:  170\n",
            "[0 0 0 ... 0 0 0] [5 0 4 ... 5 6 8]\n",
            "Accuracy:  0.09871666666666666\n",
            "Iteration:  180\n",
            "[0 0 0 ... 0 0 0] [5 0 4 ... 5 6 8]\n",
            "Accuracy:  0.09871666666666666\n",
            "Iteration:  190\n",
            "[0 0 0 ... 0 0 0] [5 0 4 ... 5 6 8]\n",
            "Accuracy:  0.09871666666666666\n",
            "Iteration:  200\n",
            "[0 0 0 ... 0 0 0] [5 0 4 ... 5 6 8]\n",
            "Accuracy:  0.09871666666666666\n",
            "Iteration:  210\n",
            "[0 0 0 ... 0 0 0] [5 0 4 ... 5 6 8]\n",
            "Accuracy:  0.09871666666666666\n",
            "Iteration:  220\n",
            "[0 0 0 ... 0 0 0] [5 0 4 ... 5 6 8]\n",
            "Accuracy:  0.09871666666666666\n",
            "Iteration:  230\n",
            "[0 0 0 ... 0 0 0] [5 0 4 ... 5 6 8]\n",
            "Accuracy:  0.09871666666666666\n",
            "Iteration:  240\n",
            "[0 0 0 ... 0 0 0] [5 0 4 ... 5 6 8]\n",
            "Accuracy:  0.09871666666666666\n",
            "Iteration:  250\n",
            "[0 0 0 ... 0 0 0] [5 0 4 ... 5 6 8]\n",
            "Accuracy:  0.09871666666666666\n",
            "Iteration:  260\n",
            "[0 0 0 ... 0 0 0] [5 0 4 ... 5 6 8]\n",
            "Accuracy:  0.09871666666666666\n",
            "Iteration:  270\n",
            "[0 0 0 ... 0 0 0] [5 0 4 ... 5 6 8]\n",
            "Accuracy:  0.09871666666666666\n",
            "Iteration:  280\n",
            "[0 0 0 ... 0 0 0] [5 0 4 ... 5 6 8]\n",
            "Accuracy:  0.09871666666666666\n",
            "Iteration:  290\n",
            "[0 0 0 ... 0 0 0] [5 0 4 ... 5 6 8]\n",
            "Accuracy:  0.09871666666666666\n",
            "Iteration:  300\n",
            "[0 0 0 ... 0 0 0] [5 0 4 ... 5 6 8]\n",
            "Accuracy:  0.09871666666666666\n",
            "Iteration:  310\n",
            "[0 0 0 ... 0 0 0] [5 0 4 ... 5 6 8]\n",
            "Accuracy:  0.09871666666666666\n",
            "Iteration:  320\n",
            "[0 0 0 ... 0 0 0] [5 0 4 ... 5 6 8]\n",
            "Accuracy:  0.09871666666666666\n",
            "Iteration:  330\n",
            "[0 0 0 ... 0 0 0] [5 0 4 ... 5 6 8]\n",
            "Accuracy:  0.09871666666666666\n",
            "Iteration:  340\n",
            "[0 0 0 ... 0 0 0] [5 0 4 ... 5 6 8]\n",
            "Accuracy:  0.09871666666666666\n",
            "Iteration:  350\n",
            "[0 0 0 ... 0 0 0] [5 0 4 ... 5 6 8]\n",
            "Accuracy:  0.09871666666666666\n",
            "Iteration:  360\n",
            "[0 0 0 ... 0 0 0] [5 0 4 ... 5 6 8]\n",
            "Accuracy:  0.09871666666666666\n",
            "Iteration:  370\n",
            "[0 0 0 ... 0 0 0] [5 0 4 ... 5 6 8]\n",
            "Accuracy:  0.09871666666666666\n",
            "Iteration:  380\n",
            "[0 0 0 ... 0 0 0] [5 0 4 ... 5 6 8]\n",
            "Accuracy:  0.09871666666666666\n",
            "Iteration:  390\n",
            "[0 0 0 ... 0 0 0] [5 0 4 ... 5 6 8]\n",
            "Accuracy:  0.09871666666666666\n",
            "Iteration:  400\n",
            "[0 0 0 ... 0 0 0] [5 0 4 ... 5 6 8]\n",
            "Accuracy:  0.09871666666666666\n",
            "Iteration:  410\n",
            "[0 0 0 ... 0 0 0] [5 0 4 ... 5 6 8]\n",
            "Accuracy:  0.09871666666666666\n",
            "Iteration:  420\n",
            "[0 0 0 ... 0 0 0] [5 0 4 ... 5 6 8]\n",
            "Accuracy:  0.09871666666666666\n",
            "Iteration:  430\n",
            "[0 0 0 ... 0 0 0] [5 0 4 ... 5 6 8]\n",
            "Accuracy:  0.09871666666666666\n",
            "Iteration:  440\n",
            "[0 0 0 ... 0 0 0] [5 0 4 ... 5 6 8]\n",
            "Accuracy:  0.09871666666666666\n",
            "Iteration:  450\n",
            "[0 0 0 ... 0 0 0] [5 0 4 ... 5 6 8]\n",
            "Accuracy:  0.09871666666666666\n",
            "Iteration:  460\n",
            "[0 0 0 ... 0 0 0] [5 0 4 ... 5 6 8]\n",
            "Accuracy:  0.09871666666666666\n",
            "Iteration:  470\n",
            "[0 0 0 ... 0 0 0] [5 0 4 ... 5 6 8]\n",
            "Accuracy:  0.09871666666666666\n",
            "Iteration:  480\n",
            "[0 0 0 ... 0 0 0] [5 0 4 ... 5 6 8]\n",
            "Accuracy:  0.09871666666666666\n",
            "Iteration:  490\n",
            "[0 0 0 ... 0 0 0] [5 0 4 ... 5 6 8]\n",
            "Accuracy:  0.09871666666666666\n"
          ]
        }
      ]
    },
    {
      "cell_type": "code",
      "source": [
        "import matplotlib.pyplot as plt\n",
        "def make_predictions(X, W1, b1, W2, b2):\n",
        "    _, _, _, A2 = forwprop(W1, b1, W2, b2, X)\n",
        "    predictions = get_predictions(A2)\n",
        "    return predictions\n",
        "\n",
        "def test_prediction(index, W1, b1, W2, b2):\n",
        "    current_image = train_X[:, index, None]\n",
        "    prediction = make_predictions(train_X[:, index, None], W1, b1, W2, b2)\n",
        "    label = train_y[index]\n",
        "    print(\"Prediction: \", prediction)\n",
        "    print(\"Label: \", label)\n",
        "\n",
        "    current_image = current_image.reshape((28, 28)) * 255\n",
        "    plt.gray()\n",
        "    plt.imshow(current_image, interpolation='nearest')\n",
        "    plt.show()"
      ],
      "metadata": {
        "id": "z0WRCqKtrfmU"
      },
      "execution_count": 57,
      "outputs": []
    }
  ]
}